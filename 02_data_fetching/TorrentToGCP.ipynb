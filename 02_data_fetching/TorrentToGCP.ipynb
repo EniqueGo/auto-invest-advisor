{
 "cells": [
  {
   "cell_type": "markdown",
   "id": "49aeba59-9fc2-4ccf-a72e-4d1e20f637b1",
   "metadata": {},
   "source": [
    "# Torrent Download to GCP\n",
    "\n",
    "The script is to solve 2.4T data storage and downloading issue. \n",
    "\n",
    "Data from: https://academictorrents.com/details/56aa49f9653ba545f48df2e33679f014d2829c10/comments\n",
    "\n",
    "https://academictorrents.com/download/56aa49f9653ba545f48df2e33679f014d2829c10.torrent\n",
    "\n",
    "\n",
    "On the terminal window, verify that gcsfuse is installed by running the command \n",
    "\n",
    "gcsfuse\n",
    "gcsfuse takes one or two arguments. Run `gcsfuse --help` for more info.\n",
    "\n",
    "\n",
    "Once you have the bucket name copied, you can run the following commands in the terminal window. In this example we take the copied bucket name, my-cloud-bucket, and paste it as a parameter to the gcsfuse command to map to the gcs directory in the last line using a variable.\n",
    "\n",
    "MY_BUCKET=adsp-capstone-enique-data\n",
    "\n",
    "cd ~/ # This should take you to /home/jupyter/\n",
    "\n",
    "mkdir -p gcs # Create a folder that will be used as a mount point\n",
    "\n",
    "gcsfuse --implicit-dirs $MY_BUCKET \"/home/jupyter/gcs\"\n",
    "\n",
    "You can now access the Cloud Storage bucket files from your Workbench Notebook instance as if they were locally. You can even create and run Jupyter Notebooks from the Cloud Storage bucket.\n",
    "\n",
    "gcsfuse $MY_BUCKET \"/home/jupyter/gcs\"\n",
    "\n",
    "\n",
    "\n",
    "\n",
    "\n",
    "Using commend line\n",
    "\n",
    "cd gcs/stonkgo/\n",
    "\n",
    "\n",
    "pip install academictorrents\n",
    "\n",
    "at-get 7c0645c94321311bb05bd879ddee4d0eba08aaee"
   ]
  },
  {
   "cell_type": "code",
   "execution_count": null,
   "id": "e178c7c1-4e60-4bc9-b596-26ed65f8015f",
   "metadata": {},
   "outputs": [],
   "source": []
  },
  {
   "cell_type": "code",
   "execution_count": null,
   "id": "d60c9610-5ba9-46f6-9f21-b1286606c4d0",
   "metadata": {},
   "outputs": [],
   "source": []
  },
  {
   "cell_type": "markdown",
   "id": "0b5bdb89-3e8d-4bcf-9352-93d216f00cf1",
   "metadata": {},
   "source": [
    "We won't use any code below"
   ]
  },
  {
   "cell_type": "code",
   "execution_count": 1,
   "id": "7e1388bd-ae91-4ab6-be10-38917e254b07",
   "metadata": {
    "tags": []
   },
   "outputs": [],
   "source": [
    "#%pip install --upgrade pip setuptools wheel\n",
    "#%pip install lbry-libtorrent"
   ]
  },
  {
   "cell_type": "code",
   "execution_count": 2,
   "id": "68ede753-30c8-46f2-ad7d-c952f6768766",
   "metadata": {
    "tags": []
   },
   "outputs": [],
   "source": [
    "import libtorrent as lt\n",
    "import time\n",
    "import sys"
   ]
  },
  {
   "cell_type": "code",
   "execution_count": 3,
   "id": "fbca77df-51c7-4f42-9f69-d552fd36ea68",
   "metadata": {
    "tags": []
   },
   "outputs": [],
   "source": [
    "#link = \"https://academictorrents.com/download/56aa49f9653ba545f48df2e33679f014d2829c10.torrent\"\n",
    "link = \"magnet:?xt=urn:btih:56aa49f9653ba545f48df2e33679f014d2829c10&tr=https%3A%2F%2Facademictorrents.com%2Fannounce.php&tr=udp%3A%2F%2Ftracker.coppersurfer.tk%3A6969&tr=udp%3A%2F%2Ftracker.opentrackr.org%3A1337%2Fannounce\"\n",
    "save_path= 'gcs/stonkgo/reddit-hist-data-2T/'    \n",
    "\n",
    "bucket_name = 'adsp-capstone-enique-data'\n",
    "folder_name = 'stonkgo/reddit-hist-data-2T'"
   ]
  },
  {
   "cell_type": "code",
   "execution_count": 9,
   "id": "2fcd7056-e79a-447e-8421-880cbd0479bd",
   "metadata": {
    "tags": []
   },
   "outputs": [
    {
     "data": {
      "text/html": [
       "<img src=\"gcs/stonkgo/reddit-hist-data-2T/test-img.png\"/>"
      ],
      "text/plain": [
       "<IPython.core.display.Image object>"
      ]
     },
     "execution_count": 9,
     "metadata": {},
     "output_type": "execute_result"
    }
   ],
   "source": [
    "# Test file\n",
    "from IPython.display import Image\n",
    "from IPython.core.display import HTML\n",
    "Image(url= \"gcs/stonkgo/reddit-hist-data-2T/test-img.png\")"
   ]
  },
  {
   "cell_type": "code",
   "execution_count": 14,
   "id": "d66d257c-cc8e-4e16-aa42-00671bd8ec3f",
   "metadata": {
    "tags": []
   },
   "outputs": [
    {
     "name": "stdout",
     "output_type": "stream",
     "text": [
      "157573 pieces\n"
     ]
    }
   ],
   "source": [
    "with open(\"gcs/stonkgo/reddit-hist-data-2T/reddit-2T.torrent\", \"rb\") as f:\n",
    "    e = lt.bdecode(f.read())\n",
    "info = lt.torrent_info(e)\n",
    "print(info.num_pieces(), 'pieces')\n",
    "files = info.files()"
   ]
  },
  {
   "cell_type": "code",
   "execution_count": 15,
   "id": "2a03e86b-831a-4c73-8047-9fa32ee3f197",
   "metadata": {
    "tags": []
   },
   "outputs": [],
   "source": [
    "\n",
    "ses = lt.session()\n",
    "#ses.listen_on(7881, 7891)\n",
    "\n",
    "params = { 'save_path': save_path,\n",
    "           'storage_mode': lt.storage_mode_t.storage_mode_sparse,\n",
    "           'ti': info,\n",
    "           'flags': lt.add_torrent_params_flags_t.flag_paused,\n",
    "         }\n",
    "h = ses.add_torrent(params)"
   ]
  },
  {
   "cell_type": "code",
   "execution_count": 16,
   "id": "307b87bf-f3b9-446e-a765-73fc549f6895",
   "metadata": {
    "tags": []
   },
   "outputs": [
    {
     "name": "stdout",
     "output_type": "stream",
     "text": [
      "starting reddit\n",
      "0.00% complete (down: 0.0 kB/s up: 0.0 kB/s peers: 0) checking_resume_data could not map port using UPnP[10.0.0.2]: no router found\n",
      "could not map port using UPnP[10.0.0.2]: no router found\n",
      "0.00% complete (down: 0.0 kB/s up: 0.0 kB/s peers: 0) downloading ume_data "
     ]
    },
    {
     "ename": "KeyboardInterrupt",
     "evalue": "",
     "output_type": "error",
     "traceback": [
      "\u001b[0;31m---------------------------------------------------------------------------\u001b[0m",
      "\u001b[0;31mKeyboardInterrupt\u001b[0m                         Traceback (most recent call last)",
      "Cell \u001b[0;32mIn[16], line 18\u001b[0m\n\u001b[1;32m     14\u001b[0m             \u001b[38;5;28mprint\u001b[39m(a)\n\u001b[1;32m     16\u001b[0m     sys\u001b[38;5;241m.\u001b[39mstdout\u001b[38;5;241m.\u001b[39mflush()\n\u001b[0;32m---> 18\u001b[0m     \u001b[43mtime\u001b[49m\u001b[38;5;241;43m.\u001b[39;49m\u001b[43msleep\u001b[49m\u001b[43m(\u001b[49m\u001b[38;5;241;43m1\u001b[39;49m\u001b[43m)\u001b[49m\n\u001b[1;32m     20\u001b[0m \u001b[38;5;28mprint\u001b[39m(h\u001b[38;5;241m.\u001b[39mstatus()\u001b[38;5;241m.\u001b[39mname, \u001b[38;5;124m'\u001b[39m\u001b[38;5;124mcomplete\u001b[39m\u001b[38;5;124m'\u001b[39m)\n",
      "\u001b[0;31mKeyboardInterrupt\u001b[0m: "
     ]
    }
   ],
   "source": [
    "\n",
    "\n",
    "s = h.status()\n",
    "print('starting', s.name)\n",
    "\n",
    "while (not s.is_seeding):\n",
    "    s = h.status()\n",
    "\n",
    "    print('\\r%.2f%% complete (down: %.1f kB/s up: %.1f kB/s peers: %d) %s' % (\n",
    "        s.progress * 100, s.download_rate / 1000, s.upload_rate / 1000,\n",
    "        s.num_peers, s.state), end=' ')\n",
    "\n",
    "    alerts = ses.pop_alerts()\n",
    "    for a in alerts:\n",
    "        if a.category() & lt.alert.category_t.error_notification:\n",
    "            print(a)\n",
    "\n",
    "    sys.stdout.flush()\n",
    "\n",
    "    time.sleep(1)\n",
    "\n",
    "print(h.status().name, 'complete')"
   ]
  },
  {
   "cell_type": "code",
   "execution_count": null,
   "id": "b19013f6-7c8a-4afb-b4b4-8e62b86eafe1",
   "metadata": {},
   "outputs": [],
   "source": []
  },
  {
   "cell_type": "code",
   "execution_count": null,
   "id": "6dd889cb-d08f-48d0-bd89-907a2ccc0065",
   "metadata": {},
   "outputs": [],
   "source": []
  }
 ],
 "metadata": {
  "environment": {
   "kernel": "python3",
   "name": "tf2-cpu.2-11.m119",
   "type": "gcloud",
   "uri": "us-docker.pkg.dev/deeplearning-platform-release/gcr.io/tf2-cpu.2-11:m119"
  },
  "kernelspec": {
   "display_name": "Python 3",
   "language": "python",
   "name": "python3"
  },
  "language_info": {
   "codemirror_mode": {
    "name": "ipython",
    "version": 3
   },
   "file_extension": ".py",
   "mimetype": "text/x-python",
   "name": "python",
   "nbconvert_exporter": "python",
   "pygments_lexer": "ipython3",
   "version": "3.10.14"
  }
 },
 "nbformat": 4,
 "nbformat_minor": 5
}
