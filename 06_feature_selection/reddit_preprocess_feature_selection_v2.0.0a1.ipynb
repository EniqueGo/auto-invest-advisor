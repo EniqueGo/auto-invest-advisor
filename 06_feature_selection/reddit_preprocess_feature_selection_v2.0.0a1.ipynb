{
 "cells": [
  {
   "cell_type": "code",
   "execution_count": 1,
   "id": "a060cc5a",
   "metadata": {},
   "outputs": [],
   "source": [
    "EXE_ENV_LOCAL = \"LOC\"\n",
    "EXE_ENV_GCP = \"GCP\"\n",
    "\n",
    "EXE_ENV = EXE_ENV_LOCAL # Exe Environment"
   ]
  },
  {
   "cell_type": "markdown",
   "id": "60036809",
   "metadata": {},
   "source": [
    "# 1. Install and Import Libraries\n",
    "\n",
    "## 1.1 Install Libararies\n",
    "\n",
    "## 1.2 Import Libraries"
   ]
  },
  {
   "cell_type": "code",
   "execution_count": 25,
   "id": "ff04c236",
   "metadata": {},
   "outputs": [],
   "source": [
    "\n",
    "from google.cloud import storage\n",
    "import itertools\n",
    "import ast\n",
    "from joblib import dump,load\n",
    "\n",
    "from sklearn.ensemble import RandomForestRegressor\n",
    "from sklearn.metrics import mean_squared_error, r2_score, mean_absolute_percentage_error\n",
    "\n",
    "from sklearn.feature_selection import SelectFromModel, VarianceThreshold, RFE\n",
    "from sklearn.linear_model import LinearRegression\n",
    "import statsmodels.api as sm\n",
    "\n",
    "from statsmodels.stats.outliers_influence import variance_inflation_factor\n"
   ]
  },
  {
   "cell_type": "code",
   "execution_count": 20,
   "id": "32ecd5e5",
   "metadata": {},
   "outputs": [],
   "source": [
    "import pandas as pd\n",
    "import numpy as np\n",
    "import os, sys\n",
    "from datetime import datetime\n",
    "\n",
    "from sklearn.ensemble import RandomForestRegressor\n",
    "\n",
    "# Visulization\n",
    "import seaborn as sns\n",
    "\n",
    "# Owned\n",
    "\n",
    "estherx_utils_dir = os.path.abspath('/Users/estherx/Documents/EstherxScripts/python/utils')\n",
    "sys.path.append(estherx_utils_dir)  \n",
    "\n",
    "\n",
    "\n",
    "# Owend\n",
    "if EXE_ENV==EXE_ENV_GCP:\n",
    "\n",
    "    reddit_dir = \"data/Reddit\"\n",
    "    train_test_lstm_file_path = f\"{reddit_dir}/train_test_lstm_reddit_data.csv\"\n",
    "    \n",
    "    sys.path.append('/home/jupyter/utils')\n",
    "    from esx_GCPStorageManager import GCPSManager\n",
    "\n",
    "if EXE_ENV==EXE_ENV_LOCAL:\n",
    "    reddit_dir = \"/Users/estherx/Documents/EstherxScripts/python/stonkgo/stonkgo_v1.0.0/data_processing/Reddit\"\n",
    "    \n",
    "    train_test_lstm_file_path = f\"{reddit_dir}/train_test_lstm_reddit_data.csv\"\n",
    "    sys.path.append('/Users/estherx/Documents/EstherxScripts/python/stonkgo/stonkgo_v1.0.0/utils')\n",
    "from esx_DataSplitter import split_data_by_cutoff_point\n",
    "    \n",
    "# Constants\n",
    "HORIZON_DAYS = 5 # Forcast next 5 days\n",
    "HORIZON_HOURS = HORIZON_DAYS * 24"
   ]
  },
  {
   "cell_type": "markdown",
   "id": "f326d4bd",
   "metadata": {},
   "source": [
    "# 1.Load the Data"
   ]
  },
  {
   "cell_type": "code",
   "execution_count": 11,
   "id": "02c6bb4d",
   "metadata": {},
   "outputs": [],
   "source": [
    "def load_merged_data(train_test_lstm_file_path, is_gcp=EXE_ENV):\n",
    "    if is_gcp == EXE_ENV_GCP:\n",
    "            \n",
    "        gcps = GCPSManager(bucket_name=\"adsp-capstone-enique-data\")\n",
    "\n",
    "        merged_df = gcps.read_csv(train_test_lstm_file_path)\n",
    "\n",
    "    else:\n",
    "        # Load the data from local\n",
    "        merged_df = pd.read_csv(train_test_lstm_file_path)\n",
    "        \n",
    "    merged_df['ds'] = pd.to_datetime(merged_df['ds'])\n",
    "    \n",
    "    return  merged_df\n",
    "\n",
    "merged_df = load_merged_data(train_test_lstm_file_path)"
   ]
  },
  {
   "cell_type": "code",
   "execution_count": 12,
   "id": "93b4856b",
   "metadata": {},
   "outputs": [
    {
     "name": "stdout",
     "output_type": "stream",
     "text": [
      "<class 'pandas.core.frame.DataFrame'>\n",
      "RangeIndex: 48639 entries, 0 to 48638\n",
      "Data columns (total 60 columns):\n",
      " #   Column                         Non-Null Count  Dtype         \n",
      "---  ------                         --------------  -----         \n",
      " 0   ds                             48639 non-null  datetime64[ns]\n",
      " 1   open_price                     48639 non-null  float64       \n",
      " 2   y_upper                        48639 non-null  float64       \n",
      " 3   y_lower                        48639 non-null  float64       \n",
      " 4   y                              48639 non-null  float64       \n",
      " 5   volume                         48639 non-null  float64       \n",
      " 6   quote_asset_volume             48639 non-null  float64       \n",
      " 7   num_of_trades                  48639 non-null  int64         \n",
      " 8   taker_buy_base_asset_volume    48639 non-null  float64       \n",
      " 9   taker_buy_quote_asset_volume   48639 non-null  float64       \n",
      " 10  RSI                            48639 non-null  float64       \n",
      " 11  MACD                           48639 non-null  float64       \n",
      " 12  MACD_signal                    48639 non-null  float64       \n",
      " 13  MACD_diff                      48639 non-null  float64       \n",
      " 14  typical_price                  48639 non-null  float64       \n",
      " 15  raw_money_flow                 48639 non-null  float64       \n",
      " 16  positive_money_flow            48639 non-null  float64       \n",
      " 17  negative_money_flow            48639 non-null  float64       \n",
      " 18  MFI                            48639 non-null  float64       \n",
      " 19  bollinger_upper                48639 non-null  float64       \n",
      " 20  bollinger_lower                48639 non-null  float64       \n",
      " 21  prophet_forecast               48639 non-null  float64       \n",
      " 22  prophet_trend                  48639 non-null  float64       \n",
      " 23  prophet_yhat_low               48639 non-null  float64       \n",
      " 24  prophet_yhat_high              48639 non-null  float64       \n",
      " 25  prophet_weekly                 48639 non-null  float64       \n",
      " 26  prophet_yearly                 48639 non-null  float64       \n",
      " 27  sentiment_positive             48639 non-null  float64       \n",
      " 28  sentiment_negative             48639 non-null  float64       \n",
      " 29  sentiment_neutral              48639 non-null  float64       \n",
      " 30  sentiment_positive_momentum    48639 non-null  float64       \n",
      " 31  sentiment_negative_momentum    48639 non-null  float64       \n",
      " 32  sentiment_neutral_momentum     48639 non-null  float64       \n",
      " 33  sentiment_positive_volatility  48639 non-null  float64       \n",
      " 34  sentiment_negative_volatility  48639 non-null  float64       \n",
      " 35  sentiment_neutral_volatility   48639 non-null  float64       \n",
      " 36  tw_avg_positive                48639 non-null  float64       \n",
      " 37  tw_avg_negative                48639 non-null  float64       \n",
      " 38  tw_avg_neutral                 48639 non-null  float64       \n",
      " 39  sentiment_positive_lag_1hr     48639 non-null  float64       \n",
      " 40  sentiment_negative_lag_1hr     48639 non-null  float64       \n",
      " 41  sentiment_neutral_lag_1hr      48639 non-null  float64       \n",
      " 42  sentiment_positive_lag_2hr     48639 non-null  float64       \n",
      " 43  sentiment_negative_lag_2hr     48639 non-null  float64       \n",
      " 44  sentiment_neutral_lag_2hr      48639 non-null  float64       \n",
      " 45  sentiment_positive_lag_3hr     48639 non-null  float64       \n",
      " 46  sentiment_negative_lag_3hr     48639 non-null  float64       \n",
      " 47  sentiment_neutral_lag_3hr      48639 non-null  float64       \n",
      " 48  sentiment_positive_lag_4hr     48639 non-null  float64       \n",
      " 49  sentiment_negative_lag_4hr     48639 non-null  float64       \n",
      " 50  sentiment_neutral_lag_4hr      48639 non-null  float64       \n",
      " 51  sentiment_positive_lag_5hr     48639 non-null  float64       \n",
      " 52  sentiment_negative_lag_5hr     48639 non-null  float64       \n",
      " 53  sentiment_neutral_lag_5hr      48639 non-null  float64       \n",
      " 54  sentiment_positive_lag_6hr     48639 non-null  float64       \n",
      " 55  sentiment_negative_lag_6hr     48639 non-null  float64       \n",
      " 56  sentiment_neutral_lag_6hr      48639 non-null  float64       \n",
      " 57  sentiment_positive_lag_7hr     48639 non-null  float64       \n",
      " 58  sentiment_negative_lag_7hr     48639 non-null  float64       \n",
      " 59  sentiment_neutral_lag_7hr      48639 non-null  float64       \n",
      "dtypes: datetime64[ns](1), float64(58), int64(1)\n",
      "memory usage: 22.3 MB\n"
     ]
    }
   ],
   "source": [
    "merged_df.info()"
   ]
  },
  {
   "cell_type": "code",
   "execution_count": 14,
   "id": "eb1595db",
   "metadata": {},
   "outputs": [],
   "source": [
    "train_lstm, test_lstm = split_data_by_cutoff_point(merged_df,test_rows = 120)"
   ]
  },
  {
   "cell_type": "code",
   "execution_count": 15,
   "id": "7b2e8d6b",
   "metadata": {},
   "outputs": [],
   "source": [
    "train_lstm.set_index('ds',inplace=True)"
   ]
  },
  {
   "cell_type": "markdown",
   "id": "90d7f2dd",
   "metadata": {},
   "source": [
    "# 2.Feature Selection - Merged Data\n",
    "\n",
    "## 2.1 Correlation Analysis"
   ]
  },
  {
   "cell_type": "code",
   "execution_count": 16,
   "id": "1bb177cb",
   "metadata": {},
   "outputs": [],
   "source": [
    "corrs = train_lstm.corr()\n",
    "\n",
    "# Get absolute values for specific columns and sort each individually\n",
    "target_corrs = corrs['y'].abs().sort_values(ascending=False)"
   ]
  },
  {
   "cell_type": "code",
   "execution_count": 17,
   "id": "dcd0578b",
   "metadata": {},
   "outputs": [],
   "source": [
    "# Set a correlation threshold\n",
    "corr_threshold = 0.1\n",
    "\n",
    "# Filter features based on the threshold\n",
    "corr_features = target_corrs[target_corrs > corr_threshold].index.tolist()\n",
    "\n",
    "# Exclude the target column itself from the list if it's present\n",
    "corr_features = [feature for feature in corr_features if feature != 'y']"
   ]
  },
  {
   "cell_type": "code",
   "execution_count": null,
   "id": "863ac34d",
   "metadata": {},
   "outputs": [],
   "source": [
    "# Plot the correlation heatmap\n",
    "plt.figure(figsize=(12, 8))\n",
    "sns.heatmap(train_lstm[['y'] + corr_features].corr(), annot=True, cmap='coolwarm')\n",
    "plt.show()"
   ]
  },
  {
   "cell_type": "markdown",
   "id": "fc1e3309",
   "metadata": {},
   "source": [
    "## 2.2 Feature Importance using RandomForest"
   ]
  },
  {
   "cell_type": "code",
   "execution_count": 18,
   "id": "5f6b5a3f",
   "metadata": {},
   "outputs": [],
   "source": [
    "X_feature_selection = train_lstm.drop(columns=['y'])  \n",
    "y_feature_selection = train_lstm[['y']]"
   ]
  },
  {
   "cell_type": "code",
   "execution_count": 21,
   "id": "80b14da8",
   "metadata": {},
   "outputs": [
    {
     "name": "stderr",
     "output_type": "stream",
     "text": [
      "/Library/Frameworks/Python.framework/Versions/3.11/lib/python3.11/site-packages/sklearn/base.py:1151: DataConversionWarning: A column-vector y was passed when a 1d array was expected. Please change the shape of y to (n_samples,), for example using ravel().\n",
      "  return fit_method(estimator, *args, **kwargs)\n"
     ]
    },
    {
     "data": {
      "text/html": [
       "<style>#sk-container-id-1 {color: black;}#sk-container-id-1 pre{padding: 0;}#sk-container-id-1 div.sk-toggleable {background-color: white;}#sk-container-id-1 label.sk-toggleable__label {cursor: pointer;display: block;width: 100%;margin-bottom: 0;padding: 0.3em;box-sizing: border-box;text-align: center;}#sk-container-id-1 label.sk-toggleable__label-arrow:before {content: \"▸\";float: left;margin-right: 0.25em;color: #696969;}#sk-container-id-1 label.sk-toggleable__label-arrow:hover:before {color: black;}#sk-container-id-1 div.sk-estimator:hover label.sk-toggleable__label-arrow:before {color: black;}#sk-container-id-1 div.sk-toggleable__content {max-height: 0;max-width: 0;overflow: hidden;text-align: left;background-color: #f0f8ff;}#sk-container-id-1 div.sk-toggleable__content pre {margin: 0.2em;color: black;border-radius: 0.25em;background-color: #f0f8ff;}#sk-container-id-1 input.sk-toggleable__control:checked~div.sk-toggleable__content {max-height: 200px;max-width: 100%;overflow: auto;}#sk-container-id-1 input.sk-toggleable__control:checked~label.sk-toggleable__label-arrow:before {content: \"▾\";}#sk-container-id-1 div.sk-estimator input.sk-toggleable__control:checked~label.sk-toggleable__label {background-color: #d4ebff;}#sk-container-id-1 div.sk-label input.sk-toggleable__control:checked~label.sk-toggleable__label {background-color: #d4ebff;}#sk-container-id-1 input.sk-hidden--visually {border: 0;clip: rect(1px 1px 1px 1px);clip: rect(1px, 1px, 1px, 1px);height: 1px;margin: -1px;overflow: hidden;padding: 0;position: absolute;width: 1px;}#sk-container-id-1 div.sk-estimator {font-family: monospace;background-color: #f0f8ff;border: 1px dotted black;border-radius: 0.25em;box-sizing: border-box;margin-bottom: 0.5em;}#sk-container-id-1 div.sk-estimator:hover {background-color: #d4ebff;}#sk-container-id-1 div.sk-parallel-item::after {content: \"\";width: 100%;border-bottom: 1px solid gray;flex-grow: 1;}#sk-container-id-1 div.sk-label:hover label.sk-toggleable__label {background-color: #d4ebff;}#sk-container-id-1 div.sk-serial::before {content: \"\";position: absolute;border-left: 1px solid gray;box-sizing: border-box;top: 0;bottom: 0;left: 50%;z-index: 0;}#sk-container-id-1 div.sk-serial {display: flex;flex-direction: column;align-items: center;background-color: white;padding-right: 0.2em;padding-left: 0.2em;position: relative;}#sk-container-id-1 div.sk-item {position: relative;z-index: 1;}#sk-container-id-1 div.sk-parallel {display: flex;align-items: stretch;justify-content: center;background-color: white;position: relative;}#sk-container-id-1 div.sk-item::before, #sk-container-id-1 div.sk-parallel-item::before {content: \"\";position: absolute;border-left: 1px solid gray;box-sizing: border-box;top: 0;bottom: 0;left: 50%;z-index: -1;}#sk-container-id-1 div.sk-parallel-item {display: flex;flex-direction: column;z-index: 1;position: relative;background-color: white;}#sk-container-id-1 div.sk-parallel-item:first-child::after {align-self: flex-end;width: 50%;}#sk-container-id-1 div.sk-parallel-item:last-child::after {align-self: flex-start;width: 50%;}#sk-container-id-1 div.sk-parallel-item:only-child::after {width: 0;}#sk-container-id-1 div.sk-dashed-wrapped {border: 1px dashed gray;margin: 0 0.4em 0.5em 0.4em;box-sizing: border-box;padding-bottom: 0.4em;background-color: white;}#sk-container-id-1 div.sk-label label {font-family: monospace;font-weight: bold;display: inline-block;line-height: 1.2em;}#sk-container-id-1 div.sk-label-container {text-align: center;}#sk-container-id-1 div.sk-container {/* jupyter's `normalize.less` sets `[hidden] { display: none; }` but bootstrap.min.css set `[hidden] { display: none !important; }` so we also need the `!important` here to be able to override the default hidden behavior on the sphinx rendered scikit-learn.org. See: https://github.com/scikit-learn/scikit-learn/issues/21755 */display: inline-block !important;position: relative;}#sk-container-id-1 div.sk-text-repr-fallback {display: none;}</style><div id=\"sk-container-id-1\" class=\"sk-top-container\"><div class=\"sk-text-repr-fallback\"><pre>RandomForestRegressor(random_state=42)</pre><b>In a Jupyter environment, please rerun this cell to show the HTML representation or trust the notebook. <br />On GitHub, the HTML representation is unable to render, please try loading this page with nbviewer.org.</b></div><div class=\"sk-container\" hidden><div class=\"sk-item\"><div class=\"sk-estimator sk-toggleable\"><input class=\"sk-toggleable__control sk-hidden--visually\" id=\"sk-estimator-id-1\" type=\"checkbox\" checked><label for=\"sk-estimator-id-1\" class=\"sk-toggleable__label sk-toggleable__label-arrow\">RandomForestRegressor</label><div class=\"sk-toggleable__content\"><pre>RandomForestRegressor(random_state=42)</pre></div></div></div></div></div>"
      ],
      "text/plain": [
       "RandomForestRegressor(random_state=42)"
      ]
     },
     "execution_count": 21,
     "metadata": {},
     "output_type": "execute_result"
    }
   ],
   "source": [
    "# Fit RandomForest to estimate feature importance\n",
    "rf = RandomForestRegressor(n_estimators=100, random_state=42)\n",
    "rf.fit(X_feature_selection, y_feature_selection)"
   ]
  },
  {
   "cell_type": "code",
   "execution_count": 22,
   "id": "6a8cdcca",
   "metadata": {},
   "outputs": [],
   "source": [
    "feature_importances = pd.Series(rf.feature_importances_, index=X_feature_selection.columns)\n",
    "feature_importances = feature_importances.sort_values(ascending=False)"
   ]
  },
  {
   "cell_type": "code",
   "execution_count": 23,
   "id": "e4f01bf9",
   "metadata": {},
   "outputs": [
    {
     "data": {
      "text/plain": [
       "Index(['typical_price', 'y_lower', 'y_upper', 'open_price', 'prophet_forecast',\n",
       "       'bollinger_upper', 'positive_money_flow', 'negative_money_flow',\n",
       "       'bollinger_lower', 'RSI', 'num_of_trades', 'MACD_diff',\n",
       "       'taker_buy_base_asset_volume', 'MACD_signal',\n",
       "       'taker_buy_quote_asset_volume', 'MACD', 'prophet_weekly',\n",
       "       'quote_asset_volume', 'volume', 'raw_money_flow'],\n",
       "      dtype='object')"
      ]
     },
     "execution_count": 23,
     "metadata": {},
     "output_type": "execute_result"
    }
   ],
   "source": [
    "# Select top 20 features\n",
    "rf_features = feature_importances.index[:20] \n",
    "rf_features"
   ]
  },
  {
   "cell_type": "markdown",
   "id": "b994ebee",
   "metadata": {},
   "source": [
    "## 2.3 Variance Threshold\n",
    "\n",
    "Remove features with low variance"
   ]
  },
  {
   "cell_type": "code",
   "execution_count": 26,
   "id": "656e40e8",
   "metadata": {},
   "outputs": [
    {
     "data": {
      "text/html": [
       "<style>#sk-container-id-2 {color: black;}#sk-container-id-2 pre{padding: 0;}#sk-container-id-2 div.sk-toggleable {background-color: white;}#sk-container-id-2 label.sk-toggleable__label {cursor: pointer;display: block;width: 100%;margin-bottom: 0;padding: 0.3em;box-sizing: border-box;text-align: center;}#sk-container-id-2 label.sk-toggleable__label-arrow:before {content: \"▸\";float: left;margin-right: 0.25em;color: #696969;}#sk-container-id-2 label.sk-toggleable__label-arrow:hover:before {color: black;}#sk-container-id-2 div.sk-estimator:hover label.sk-toggleable__label-arrow:before {color: black;}#sk-container-id-2 div.sk-toggleable__content {max-height: 0;max-width: 0;overflow: hidden;text-align: left;background-color: #f0f8ff;}#sk-container-id-2 div.sk-toggleable__content pre {margin: 0.2em;color: black;border-radius: 0.25em;background-color: #f0f8ff;}#sk-container-id-2 input.sk-toggleable__control:checked~div.sk-toggleable__content {max-height: 200px;max-width: 100%;overflow: auto;}#sk-container-id-2 input.sk-toggleable__control:checked~label.sk-toggleable__label-arrow:before {content: \"▾\";}#sk-container-id-2 div.sk-estimator input.sk-toggleable__control:checked~label.sk-toggleable__label {background-color: #d4ebff;}#sk-container-id-2 div.sk-label input.sk-toggleable__control:checked~label.sk-toggleable__label {background-color: #d4ebff;}#sk-container-id-2 input.sk-hidden--visually {border: 0;clip: rect(1px 1px 1px 1px);clip: rect(1px, 1px, 1px, 1px);height: 1px;margin: -1px;overflow: hidden;padding: 0;position: absolute;width: 1px;}#sk-container-id-2 div.sk-estimator {font-family: monospace;background-color: #f0f8ff;border: 1px dotted black;border-radius: 0.25em;box-sizing: border-box;margin-bottom: 0.5em;}#sk-container-id-2 div.sk-estimator:hover {background-color: #d4ebff;}#sk-container-id-2 div.sk-parallel-item::after {content: \"\";width: 100%;border-bottom: 1px solid gray;flex-grow: 1;}#sk-container-id-2 div.sk-label:hover label.sk-toggleable__label {background-color: #d4ebff;}#sk-container-id-2 div.sk-serial::before {content: \"\";position: absolute;border-left: 1px solid gray;box-sizing: border-box;top: 0;bottom: 0;left: 50%;z-index: 0;}#sk-container-id-2 div.sk-serial {display: flex;flex-direction: column;align-items: center;background-color: white;padding-right: 0.2em;padding-left: 0.2em;position: relative;}#sk-container-id-2 div.sk-item {position: relative;z-index: 1;}#sk-container-id-2 div.sk-parallel {display: flex;align-items: stretch;justify-content: center;background-color: white;position: relative;}#sk-container-id-2 div.sk-item::before, #sk-container-id-2 div.sk-parallel-item::before {content: \"\";position: absolute;border-left: 1px solid gray;box-sizing: border-box;top: 0;bottom: 0;left: 50%;z-index: -1;}#sk-container-id-2 div.sk-parallel-item {display: flex;flex-direction: column;z-index: 1;position: relative;background-color: white;}#sk-container-id-2 div.sk-parallel-item:first-child::after {align-self: flex-end;width: 50%;}#sk-container-id-2 div.sk-parallel-item:last-child::after {align-self: flex-start;width: 50%;}#sk-container-id-2 div.sk-parallel-item:only-child::after {width: 0;}#sk-container-id-2 div.sk-dashed-wrapped {border: 1px dashed gray;margin: 0 0.4em 0.5em 0.4em;box-sizing: border-box;padding-bottom: 0.4em;background-color: white;}#sk-container-id-2 div.sk-label label {font-family: monospace;font-weight: bold;display: inline-block;line-height: 1.2em;}#sk-container-id-2 div.sk-label-container {text-align: center;}#sk-container-id-2 div.sk-container {/* jupyter's `normalize.less` sets `[hidden] { display: none; }` but bootstrap.min.css set `[hidden] { display: none !important; }` so we also need the `!important` here to be able to override the default hidden behavior on the sphinx rendered scikit-learn.org. See: https://github.com/scikit-learn/scikit-learn/issues/21755 */display: inline-block !important;position: relative;}#sk-container-id-2 div.sk-text-repr-fallback {display: none;}</style><div id=\"sk-container-id-2\" class=\"sk-top-container\"><div class=\"sk-text-repr-fallback\"><pre>VarianceThreshold(threshold=0.1)</pre><b>In a Jupyter environment, please rerun this cell to show the HTML representation or trust the notebook. <br />On GitHub, the HTML representation is unable to render, please try loading this page with nbviewer.org.</b></div><div class=\"sk-container\" hidden><div class=\"sk-item\"><div class=\"sk-estimator sk-toggleable\"><input class=\"sk-toggleable__control sk-hidden--visually\" id=\"sk-estimator-id-2\" type=\"checkbox\" checked><label for=\"sk-estimator-id-2\" class=\"sk-toggleable__label sk-toggleable__label-arrow\">VarianceThreshold</label><div class=\"sk-toggleable__content\"><pre>VarianceThreshold(threshold=0.1)</pre></div></div></div></div></div>"
      ],
      "text/plain": [
       "VarianceThreshold(threshold=0.1)"
      ]
     },
     "execution_count": 26,
     "metadata": {},
     "output_type": "execute_result"
    }
   ],
   "source": [
    "# Set a variance threshold\n",
    "selector = VarianceThreshold(threshold=0.1)  \n",
    "selector.fit(X_feature_selection)"
   ]
  },
  {
   "cell_type": "code",
   "execution_count": 27,
   "id": "bd1202c6",
   "metadata": {},
   "outputs": [
    {
     "data": {
      "text/plain": [
       "Index(['open_price', 'y_upper', 'y_lower', 'volume', 'quote_asset_volume',\n",
       "       'num_of_trades', 'taker_buy_base_asset_volume',\n",
       "       'taker_buy_quote_asset_volume', 'RSI', 'MACD', 'MACD_signal',\n",
       "       'MACD_diff', 'typical_price', 'raw_money_flow', 'positive_money_flow',\n",
       "       'negative_money_flow', 'MFI', 'bollinger_upper', 'bollinger_lower',\n",
       "       'prophet_forecast', 'prophet_trend', 'prophet_yhat_low',\n",
       "       'prophet_yhat_high'],\n",
       "      dtype='object')"
      ]
     },
     "execution_count": 27,
     "metadata": {},
     "output_type": "execute_result"
    }
   ],
   "source": [
    "vt_features = X_feature_selection.columns[selector.get_support()]\n",
    "vt_features"
   ]
  },
  {
   "cell_type": "markdown",
   "id": "0716e974",
   "metadata": {},
   "source": [
    "## 2.4 Recursive Feature Elimination (RFE)\n",
    "\n",
    "To recursively eliminate less important features."
   ]
  },
  {
   "cell_type": "code",
   "execution_count": 29,
   "id": "f1b5500e",
   "metadata": {},
   "outputs": [],
   "source": [
    "# Function to remove zero variance columns\n",
    "def remove_zero_variance(df):\n",
    "    return df.loc[:, (df != df.iloc[0]).any()]\n",
    "\n",
    "X_feature_selection_no_zero = remove_zero_variance(X_feature_selection)"
   ]
  },
  {
   "cell_type": "code",
   "execution_count": 30,
   "id": "7aa09f62",
   "metadata": {},
   "outputs": [
    {
     "data": {
      "text/html": [
       "<style>#sk-container-id-3 {color: black;}#sk-container-id-3 pre{padding: 0;}#sk-container-id-3 div.sk-toggleable {background-color: white;}#sk-container-id-3 label.sk-toggleable__label {cursor: pointer;display: block;width: 100%;margin-bottom: 0;padding: 0.3em;box-sizing: border-box;text-align: center;}#sk-container-id-3 label.sk-toggleable__label-arrow:before {content: \"▸\";float: left;margin-right: 0.25em;color: #696969;}#sk-container-id-3 label.sk-toggleable__label-arrow:hover:before {color: black;}#sk-container-id-3 div.sk-estimator:hover label.sk-toggleable__label-arrow:before {color: black;}#sk-container-id-3 div.sk-toggleable__content {max-height: 0;max-width: 0;overflow: hidden;text-align: left;background-color: #f0f8ff;}#sk-container-id-3 div.sk-toggleable__content pre {margin: 0.2em;color: black;border-radius: 0.25em;background-color: #f0f8ff;}#sk-container-id-3 input.sk-toggleable__control:checked~div.sk-toggleable__content {max-height: 200px;max-width: 100%;overflow: auto;}#sk-container-id-3 input.sk-toggleable__control:checked~label.sk-toggleable__label-arrow:before {content: \"▾\";}#sk-container-id-3 div.sk-estimator input.sk-toggleable__control:checked~label.sk-toggleable__label {background-color: #d4ebff;}#sk-container-id-3 div.sk-label input.sk-toggleable__control:checked~label.sk-toggleable__label {background-color: #d4ebff;}#sk-container-id-3 input.sk-hidden--visually {border: 0;clip: rect(1px 1px 1px 1px);clip: rect(1px, 1px, 1px, 1px);height: 1px;margin: -1px;overflow: hidden;padding: 0;position: absolute;width: 1px;}#sk-container-id-3 div.sk-estimator {font-family: monospace;background-color: #f0f8ff;border: 1px dotted black;border-radius: 0.25em;box-sizing: border-box;margin-bottom: 0.5em;}#sk-container-id-3 div.sk-estimator:hover {background-color: #d4ebff;}#sk-container-id-3 div.sk-parallel-item::after {content: \"\";width: 100%;border-bottom: 1px solid gray;flex-grow: 1;}#sk-container-id-3 div.sk-label:hover label.sk-toggleable__label {background-color: #d4ebff;}#sk-container-id-3 div.sk-serial::before {content: \"\";position: absolute;border-left: 1px solid gray;box-sizing: border-box;top: 0;bottom: 0;left: 50%;z-index: 0;}#sk-container-id-3 div.sk-serial {display: flex;flex-direction: column;align-items: center;background-color: white;padding-right: 0.2em;padding-left: 0.2em;position: relative;}#sk-container-id-3 div.sk-item {position: relative;z-index: 1;}#sk-container-id-3 div.sk-parallel {display: flex;align-items: stretch;justify-content: center;background-color: white;position: relative;}#sk-container-id-3 div.sk-item::before, #sk-container-id-3 div.sk-parallel-item::before {content: \"\";position: absolute;border-left: 1px solid gray;box-sizing: border-box;top: 0;bottom: 0;left: 50%;z-index: -1;}#sk-container-id-3 div.sk-parallel-item {display: flex;flex-direction: column;z-index: 1;position: relative;background-color: white;}#sk-container-id-3 div.sk-parallel-item:first-child::after {align-self: flex-end;width: 50%;}#sk-container-id-3 div.sk-parallel-item:last-child::after {align-self: flex-start;width: 50%;}#sk-container-id-3 div.sk-parallel-item:only-child::after {width: 0;}#sk-container-id-3 div.sk-dashed-wrapped {border: 1px dashed gray;margin: 0 0.4em 0.5em 0.4em;box-sizing: border-box;padding-bottom: 0.4em;background-color: white;}#sk-container-id-3 div.sk-label label {font-family: monospace;font-weight: bold;display: inline-block;line-height: 1.2em;}#sk-container-id-3 div.sk-label-container {text-align: center;}#sk-container-id-3 div.sk-container {/* jupyter's `normalize.less` sets `[hidden] { display: none; }` but bootstrap.min.css set `[hidden] { display: none !important; }` so we also need the `!important` here to be able to override the default hidden behavior on the sphinx rendered scikit-learn.org. See: https://github.com/scikit-learn/scikit-learn/issues/21755 */display: inline-block !important;position: relative;}#sk-container-id-3 div.sk-text-repr-fallback {display: none;}</style><div id=\"sk-container-id-3\" class=\"sk-top-container\"><div class=\"sk-text-repr-fallback\"><pre>RFE(estimator=LinearRegression(), n_features_to_select=20)</pre><b>In a Jupyter environment, please rerun this cell to show the HTML representation or trust the notebook. <br />On GitHub, the HTML representation is unable to render, please try loading this page with nbviewer.org.</b></div><div class=\"sk-container\" hidden><div class=\"sk-item sk-dashed-wrapped\"><div class=\"sk-label-container\"><div class=\"sk-label sk-toggleable\"><input class=\"sk-toggleable__control sk-hidden--visually\" id=\"sk-estimator-id-3\" type=\"checkbox\" ><label for=\"sk-estimator-id-3\" class=\"sk-toggleable__label sk-toggleable__label-arrow\">RFE</label><div class=\"sk-toggleable__content\"><pre>RFE(estimator=LinearRegression(), n_features_to_select=20)</pre></div></div></div><div class=\"sk-parallel\"><div class=\"sk-parallel-item\"><div class=\"sk-item\"><div class=\"sk-label-container\"><div class=\"sk-label sk-toggleable\"><input class=\"sk-toggleable__control sk-hidden--visually\" id=\"sk-estimator-id-4\" type=\"checkbox\" ><label for=\"sk-estimator-id-4\" class=\"sk-toggleable__label sk-toggleable__label-arrow\">estimator: LinearRegression</label><div class=\"sk-toggleable__content\"><pre>LinearRegression()</pre></div></div></div><div class=\"sk-serial\"><div class=\"sk-item\"><div class=\"sk-estimator sk-toggleable\"><input class=\"sk-toggleable__control sk-hidden--visually\" id=\"sk-estimator-id-5\" type=\"checkbox\" ><label for=\"sk-estimator-id-5\" class=\"sk-toggleable__label sk-toggleable__label-arrow\">LinearRegression</label><div class=\"sk-toggleable__content\"><pre>LinearRegression()</pre></div></div></div></div></div></div></div></div></div></div>"
      ],
      "text/plain": [
       "RFE(estimator=LinearRegression(), n_features_to_select=20)"
      ]
     },
     "execution_count": 30,
     "metadata": {},
     "output_type": "execute_result"
    }
   ],
   "source": [
    "# Use RFE with a LinearRegression model\n",
    "lr = LinearRegression()\n",
    "rfe = RFE(estimator=lr, n_features_to_select=20)  \n",
    "rfe.fit(X_feature_selection_no_zero, y_feature_selection)"
   ]
  },
  {
   "cell_type": "code",
   "execution_count": 31,
   "id": "d12c5219",
   "metadata": {},
   "outputs": [
    {
     "data": {
      "text/plain": [
       "Index(['y_upper', 'y_lower', 'RSI', 'typical_price', 'raw_money_flow',\n",
       "       'positive_money_flow', 'negative_money_flow', 'sentiment_positive',\n",
       "       'sentiment_negative', 'sentiment_neutral',\n",
       "       'sentiment_positive_momentum', 'sentiment_negative_momentum',\n",
       "       'sentiment_neutral_momentum', 'sentiment_positive_lag_1hr',\n",
       "       'sentiment_negative_lag_1hr', 'sentiment_neutral_lag_1hr',\n",
       "       'sentiment_positive_lag_6hr', 'sentiment_positive_lag_7hr',\n",
       "       'sentiment_negative_lag_7hr', 'sentiment_neutral_lag_7hr'],\n",
       "      dtype='object')"
      ]
     },
     "execution_count": 31,
     "metadata": {},
     "output_type": "execute_result"
    }
   ],
   "source": [
    "# Extract selected features\n",
    "rfe_features= X_feature_selection_no_zero.columns[rfe.support_]\n",
    "rfe_features"
   ]
  },
  {
   "cell_type": "code",
   "execution_count": 33,
   "id": "735eaa72",
   "metadata": {},
   "outputs": [
    {
     "name": "stdout",
     "output_type": "stream",
     "text": [
      "\n",
      "Selected Features and their p-values for y target:\n",
      "const: 1.0000\n",
      "y_upper: 0.0000\n",
      "y_lower: 0.0000\n",
      "RSI: 1.0000\n",
      "typical_price: 0.0000\n",
      "raw_money_flow: 1.0000\n",
      "positive_money_flow: 1.0000\n",
      "negative_money_flow: 1.0000\n",
      "sentiment_positive: 1.0000\n",
      "sentiment_negative: 1.0000\n",
      "sentiment_neutral: 1.0000\n",
      "sentiment_positive_momentum: 1.0000\n",
      "sentiment_negative_momentum: 1.0000\n",
      "sentiment_neutral_momentum: 1.0000\n",
      "sentiment_positive_lag_1hr: 1.0000\n",
      "sentiment_negative_lag_1hr: 1.0000\n",
      "sentiment_neutral_lag_1hr: 1.0000\n",
      "sentiment_positive_lag_6hr: 1.0000\n",
      "sentiment_positive_lag_7hr: 1.0000\n",
      "sentiment_negative_lag_7hr: 1.0000\n",
      "sentiment_neutral_lag_7hr: 1.0000\n",
      "Selected features based on p-values: ['y_upper', 'y_lower', 'typical_price']\n"
     ]
    },
    {
     "name": "stderr",
     "output_type": "stream",
     "text": [
      "/Library/Frameworks/Python.framework/Versions/3.11/lib/python3.11/site-packages/statsmodels/regression/linear_model.py:1781: RuntimeWarning: divide by zero encountered in scalar divide\n",
      "  return 1 - self.ssr/self.centered_tss\n",
      "/Library/Frameworks/Python.framework/Versions/3.11/lib/python3.11/site-packages/statsmodels/stats/outliers_influence.py:198: RuntimeWarning: divide by zero encountered in scalar divide\n",
      "  vif = 1. / (1. - r_squared_i)\n"
     ]
    },
    {
     "name": "stdout",
     "output_type": "stream",
     "text": [
      "Variance Inflation Factor (VIF) for each feature:\n",
      "                        feature           VIF\n",
      "0                         const  0.000000e+00\n",
      "1                       y_upper  6.969908e+04\n",
      "2                       y_lower  6.063394e+04\n",
      "3                           RSI  1.119654e+00\n",
      "4                 typical_price  1.839175e+05\n",
      "5                raw_money_flow           inf\n",
      "6           positive_money_flow           inf\n",
      "7           negative_money_flow           inf\n",
      "8            sentiment_positive  2.262843e+05\n",
      "9            sentiment_negative  1.668660e+05\n",
      "10            sentiment_neutral  2.317199e+05\n",
      "11  sentiment_positive_momentum  1.057904e+06\n",
      "12  sentiment_negative_momentum  6.914247e+06\n",
      "13   sentiment_neutral_momentum  4.569300e+05\n",
      "14   sentiment_positive_lag_1hr  4.191033e+06\n",
      "15   sentiment_negative_lag_1hr  1.126874e+05\n",
      "16    sentiment_neutral_lag_1hr  1.625002e+04\n",
      "17   sentiment_positive_lag_6hr  1.174302e+00\n",
      "18   sentiment_positive_lag_7hr  7.713631e+06\n",
      "19   sentiment_negative_lag_7hr  2.057139e+05\n",
      "20    sentiment_neutral_lag_7hr  2.131739e+05\n",
      "Selected features after VIF filtering: ['RSI', 'sentiment_positive_lag_6hr']\n"
     ]
    }
   ],
   "source": [
    "rfe_results = {}\n",
    "\n",
    "# Loop through each target column\n",
    "for target_col in ['y']:  # You can add more target columns if needed\n",
    "    y_target = y_feature_selection[target_col]\n",
    "\n",
    "    # Step 1: Fit RFE with Linear Regression\n",
    "    rfe = RFE(estimator=LinearRegression(), n_features_to_select=20)\n",
    "    rfe.fit(X_feature_selection_no_zero, y_target)\n",
    "\n",
    "    # Step 2: Extract selected features\n",
    "    X_selected_rfe = X_feature_selection_no_zero[rfe_features]\n",
    "\n",
    "    # Step 3: Fit a linear regression model with statsmodels\n",
    "    X_selected_rfe = sm.add_constant(X_selected_rfe)  # Add a constant term for the intercept\n",
    "    model_rfe = sm.OLS(y_target, X_selected_rfe).fit()\n",
    "\n",
    "    # Step 4: Check the p-values\n",
    "    p_values = model_rfe.pvalues\n",
    "\n",
    "    # Display results\n",
    "    print(f\"\\nSelected Features and their p-values for {target_col} target:\")\n",
    "    for feature, p_value in zip(['const'] + rfe_features.tolist(), p_values):  # Include the intercept\n",
    "        print(f\"{feature}: {p_value:.4f}\")\n",
    "\n",
    "    # Save the results\n",
    "    rfe_results[target_col] = model_rfe.summary()\n",
    "\n",
    "    # Filter features based on p-value threshold\n",
    "    p_value_threshold = 0.05\n",
    "    selected_features = p_values[p_values < p_value_threshold].index.tolist()\n",
    "\n",
    "    # Remove the intercept if it's in the selected features\n",
    "    if 'const' in selected_features:\n",
    "        selected_features.remove('const')\n",
    "\n",
    "    print(\"Selected features based on p-values:\", selected_features)\n",
    "\n",
    "    # Check for multicollinearity\n",
    "    # LSTM Considerations: While LSTMs are generally robust to multicollinearity, \n",
    "    # ensuring data quality and removing highly collinear features can improve model stability and performance.\n",
    "    \n",
    "    vif_data = pd.DataFrame()\n",
    "    vif_data['feature'] = X_selected_rfe.columns\n",
    "    vif_data['VIF'] = [variance_inflation_factor(X_selected_rfe.values, i) for i in range(X_selected_rfe.shape[1])]\n",
    "\n",
    "    print(\"Variance Inflation Factor (VIF) for each feature:\")\n",
    "    print(vif_data)\n",
    "\n",
    "    # Filter features based on VIF threshold\n",
    "    vif_threshold = 10  # Common threshold, but can vary\n",
    "    features_to_keep = vif_data[vif_data['VIF'] < vif_threshold]['feature'].tolist()\n",
    "\n",
    "    # Remove 'const' from the list if present\n",
    "    if 'const' in features_to_keep:\n",
    "        features_to_keep.remove('const')\n",
    "\n",
    "    print(\"Selected features after VIF filtering:\", features_to_keep)\n",
    "\n",
    "    # Update the results\n",
    "    rfe_results[target_col] = {\n",
    "        \"model_summary\": model_rfe.summary(),\n",
    "        \"selected_features\": selected_features,\n",
    "        \"vif_filtered_features\": features_to_keep\n",
    "    }"
   ]
  },
  {
   "cell_type": "code",
   "execution_count": 34,
   "id": "07f26e3e",
   "metadata": {},
   "outputs": [
    {
     "name": "stdout",
     "output_type": "stream",
     "text": [
      "                            OLS Regression Results                            \n",
      "==============================================================================\n",
      "Dep. Variable:                      y   R-squared:                       1.000\n",
      "Model:                            OLS   Adj. R-squared:                  1.000\n",
      "Method:                 Least Squares   F-statistic:                 1.738e+10\n",
      "Date:                Tue, 30 Jul 2024   Prob (F-statistic):               0.00\n",
      "Time:                        11:23:00   Log-Likelihood:            -1.7178e+05\n",
      "No. Observations:               48519   AIC:                         3.436e+05\n",
      "Df Residuals:                   48504   BIC:                         3.437e+05\n",
      "Df Model:                          14                                         \n",
      "Covariance Type:            nonrobust                                         \n",
      "===============================================================================================\n",
      "                                  coef    std err          t      P>|t|      [0.025      0.975]\n",
      "-----------------------------------------------------------------------------------------------\n",
      "const                        1.146e-08      8.071   1.42e-09      1.000     -15.819      15.819\n",
      "y_upper                        -1.0000      0.001  -1853.416      0.000      -1.001      -0.999\n",
      "y_lower                        -1.0000      0.001  -1942.272      0.000      -1.001      -0.999\n",
      "RSI                          7.707e-12      0.003   2.35e-09      1.000      -0.006       0.006\n",
      "typical_price                   3.0000      0.001   3055.548      0.000       2.998       3.002\n",
      "raw_money_flow               1.595e-06   4.13e+04   3.86e-11      1.000    -8.1e+04     8.1e+04\n",
      "positive_money_flow         -1.679e-06   4.13e+04  -4.07e-11      1.000    -8.1e+04     8.1e+04\n",
      "negative_money_flow         -1.605e-06   4.13e+04  -3.89e-11      1.000    -8.1e+04     8.1e+04\n",
      "sentiment_positive            4.85e-09      6.066      8e-10      1.000     -11.890      11.890\n",
      "sentiment_negative          -5.302e-10      9.889  -5.36e-11      1.000     -19.382      19.382\n",
      "sentiment_neutral            8.251e-09      9.129   9.04e-10      1.000     -17.894      17.894\n",
      "sentiment_positive_momentum -6.469e-10      1.341  -4.82e-10      1.000      -2.628       2.628\n",
      "sentiment_negative_momentum  4.786e-09      8.021   5.97e-10      1.000     -15.721      15.721\n",
      "sentiment_neutral_momentum  -4.067e-09      6.883  -5.91e-10      1.000     -13.490      13.490\n",
      "sentiment_positive_lag_1hr   3.499e-09      5.314   6.58e-10      1.000     -10.416      10.416\n",
      "sentiment_negative_lag_1hr   8.918e-09      9.583   9.31e-10      1.000     -18.784      18.784\n",
      "sentiment_neutral_lag_1hr    6.473e-11      8.554   7.57e-12      1.000     -16.766      16.766\n",
      "sentiment_positive_lag_6hr   1.197e-11      0.219   5.46e-11      1.000      -0.430       0.430\n",
      "sentiment_positive_lag_7hr    3.83e-09      3.086   1.24e-09      1.000      -6.049       6.049\n",
      "sentiment_negative_lag_7hr   3.859e-09      3.088   1.25e-09      1.000      -6.052       6.052\n",
      "sentiment_neutral_lag_7hr    3.821e-09      3.084   1.24e-09      1.000      -6.045       6.045\n",
      "==============================================================================\n",
      "Omnibus:                    54661.274   Durbin-Watson:                   0.714\n",
      "Prob(Omnibus):                  0.000   Jarque-Bera (JB):         10343683.711\n",
      "Skew:                           5.600   Prob(JB):                         0.00\n",
      "Kurtosis:                      73.648   Cond. No.                     2.73e+23\n",
      "==============================================================================\n",
      "\n",
      "Notes:\n",
      "[1] Standard Errors assume that the covariance matrix of the errors is correctly specified.\n",
      "[2] The smallest eigenvalue is 1.9e-26. This might indicate that there are\n",
      "strong multicollinearity problems or that the design matrix is singular.\n"
     ]
    }
   ],
   "source": [
    "print(rfe_results['y']['model_summary'])\n"
   ]
  },
  {
   "cell_type": "code",
   "execution_count": 35,
   "id": "4a6d77f9",
   "metadata": {},
   "outputs": [
    {
     "data": {
      "text/plain": [
       "['RSI', 'sentiment_positive_lag_6hr']"
      ]
     },
     "execution_count": 35,
     "metadata": {},
     "output_type": "execute_result"
    }
   ],
   "source": [
    "rfe_features_final = rfe_results['y']['vif_filtered_features']\n",
    "rfe_features_final"
   ]
  },
  {
   "cell_type": "markdown",
   "id": "397f6274",
   "metadata": {},
   "source": [
    "## 2.5 Final Selected Features\n",
    "\n",
    "Combine the results from different methods to get the final set of features for the LSTM model."
   ]
  },
  {
   "cell_type": "code",
   "execution_count": 37,
   "id": "8d860361",
   "metadata": {},
   "outputs": [
    {
     "name": "stdout",
     "output_type": "stream",
     "text": [
      "Final selected features for LSTM model:\n",
      " ['sentiment_neutral_lag_2hr', 'bollinger_lower', 'prophet_yhat_low', 'sentiment_positive_lag_6hr', 'sentiment_neutral', 'sentiment_negative_lag_7hr', 'open_price', 'raw_money_flow', 'sentiment_neutral_lag_7hr', 'RSI', 'sentiment_neutral_volatility', 'sentiment_neutral_lag_3hr', 'MACD_diff', 'num_of_trades', 'prophet_yhat_high', 'y_lower', 'bollinger_upper', 'tw_avg_negative', 'sentiment_positive_volatility', 'quote_asset_volume', 'sentiment_negative_lag_6hr', 'sentiment_neutral_lag_1hr', 'MACD', 'MFI', 'sentiment_negative_lag_3hr', 'sentiment_neutral_lag_5hr', 'volume', 'tw_avg_positive', 'sentiment_negative', 'prophet_weekly', 'taker_buy_base_asset_volume', 'sentiment_negative_volatility', 'prophet_yearly', 'tw_avg_neutral', 'typical_price', 'MACD_signal', 'sentiment_neutral_lag_4hr', 'positive_money_flow', 'sentiment_neutral_lag_6hr', 'sentiment_negative_lag_5hr', 'sentiment_negative_lag_2hr', 'taker_buy_quote_asset_volume', 'y_upper', 'negative_money_flow', 'sentiment_negative_lag_1hr', 'sentiment_negative_lag_4hr', 'prophet_forecast', 'prophet_trend']\n"
     ]
    }
   ],
   "source": [
    "# Combine features from different methods\n",
    "selected_features_vif_filtered = list(set(corr_features) | set(rf_features) | set(vt_features) | set(rfe_features_final))\n",
    "\n",
    "print(\"Final selected features for LSTM model:\\n\", selected_features_vif_filtered)"
   ]
  },
  {
   "cell_type": "code",
   "execution_count": 41,
   "id": "85c44006",
   "metadata": {},
   "outputs": [
    {
     "data": {
      "text/plain": [
       "48"
      ]
     },
     "execution_count": 41,
     "metadata": {},
     "output_type": "execute_result"
    }
   ],
   "source": [
    "len(selected_features_vif_filtered)"
   ]
  },
  {
   "cell_type": "code",
   "execution_count": 42,
   "id": "9d9b42fc",
   "metadata": {},
   "outputs": [
    {
     "data": {
      "text/plain": [
       "54"
      ]
     },
     "execution_count": 42,
     "metadata": {},
     "output_type": "execute_result"
    }
   ],
   "source": [
    "len(selected_features_top)"
   ]
  },
  {
   "cell_type": "code",
   "execution_count": 38,
   "id": "bd931789",
   "metadata": {},
   "outputs": [
    {
     "name": "stdout",
     "output_type": "stream",
     "text": [
      "Final selected features for LSTM model:\n",
      " ['sentiment_neutral_lag_2hr', 'bollinger_lower', 'prophet_yhat_low', 'sentiment_positive_lag_6hr', 'sentiment_positive_lag_1hr', 'sentiment_neutral', 'sentiment_negative_lag_7hr', 'open_price', 'raw_money_flow', 'sentiment_neutral_lag_7hr', 'RSI', 'sentiment_neutral_volatility', 'sentiment_neutral_lag_3hr', 'MACD_diff', 'num_of_trades', 'prophet_yhat_high', 'y_lower', 'bollinger_upper', 'tw_avg_negative', 'sentiment_positive_volatility', 'quote_asset_volume', 'sentiment_negative_lag_6hr', 'sentiment_neutral_lag_1hr', 'MACD', 'MFI', 'sentiment_positive_momentum', 'sentiment_negative_momentum', 'sentiment_negative_lag_3hr', 'sentiment_neutral_lag_5hr', 'volume', 'tw_avg_positive', 'sentiment_negative', 'prophet_weekly', 'taker_buy_base_asset_volume', 'sentiment_negative_volatility', 'prophet_yearly', 'tw_avg_neutral', 'typical_price', 'MACD_signal', 'sentiment_neutral_lag_4hr', 'positive_money_flow', 'sentiment_neutral_lag_6hr', 'sentiment_negative_lag_5hr', 'sentiment_negative_lag_2hr', 'sentiment_positive_lag_7hr', 'taker_buy_quote_asset_volume', 'y_upper', 'sentiment_neutral_momentum', 'sentiment_positive', 'negative_money_flow', 'sentiment_negative_lag_1hr', 'sentiment_negative_lag_4hr', 'prophet_forecast', 'prophet_trend']\n"
     ]
    }
   ],
   "source": [
    "# Combine features from different methods\n",
    "selected_features_top = list(set(corr_features) | set(rf_features) | set(vt_features) | set(rfe_features))\n",
    "\n",
    "print(\"Final selected features for LSTM model:\\n\", selected_features_top)"
   ]
  },
  {
   "cell_type": "code",
   "execution_count": 43,
   "id": "f77f035e",
   "metadata": {},
   "outputs": [
    {
     "name": "stdout",
     "output_type": "stream",
     "text": [
      "Features only in VIF filtered list: set()\n",
      "Features only in Top selected list: {'sentiment_positive_lag_7hr', 'sentiment_positive_momentum', 'sentiment_positive_lag_1hr', 'sentiment_neutral_momentum', 'sentiment_positive', 'sentiment_negative_momentum'}\n"
     ]
    }
   ],
   "source": [
    "# Convert lists to sets\n",
    "set_vif_filtered = set(selected_features_vif_filtered)\n",
    "set_top = set(selected_features_top)\n",
    "\n",
    "# Find differences\n",
    "only_in_vif_filtered = set_vif_filtered - set_top\n",
    "only_in_top = set_top - set_vif_filtered\n",
    "\n",
    "# Print the differences\n",
    "print(\"Features only in VIF filtered list:\", only_in_vif_filtered)\n",
    "print(\"Features only in Top selected list:\", only_in_top)"
   ]
  },
  {
   "cell_type": "code",
   "execution_count": 44,
   "id": "7ae5425f",
   "metadata": {},
   "outputs": [
    {
     "data": {
      "text/plain": [
       "48"
      ]
     },
     "execution_count": 44,
     "metadata": {},
     "output_type": "execute_result"
    }
   ],
   "source": [
    "len(set_vif_filtered)"
   ]
  },
  {
   "cell_type": "code",
   "execution_count": 45,
   "id": "9c19da11",
   "metadata": {},
   "outputs": [
    {
     "data": {
      "text/plain": [
       "54"
      ]
     },
     "execution_count": 45,
     "metadata": {},
     "output_type": "execute_result"
    }
   ],
   "source": [
    "len(set_top)"
   ]
  },
  {
   "cell_type": "code",
   "execution_count": 39,
   "id": "5fb3401e",
   "metadata": {},
   "outputs": [
    {
     "data": {
      "text/plain": [
       "['RSI', 'sentiment_positive_lag_6hr']"
      ]
     },
     "execution_count": 39,
     "metadata": {},
     "output_type": "execute_result"
    }
   ],
   "source": [
    "rfe_features_final"
   ]
  },
  {
   "cell_type": "code",
   "execution_count": 40,
   "id": "c5ed725c",
   "metadata": {},
   "outputs": [
    {
     "data": {
      "text/plain": [
       "Index(['y_upper', 'y_lower', 'RSI', 'typical_price', 'raw_money_flow',\n",
       "       'positive_money_flow', 'negative_money_flow', 'sentiment_positive',\n",
       "       'sentiment_negative', 'sentiment_neutral',\n",
       "       'sentiment_positive_momentum', 'sentiment_negative_momentum',\n",
       "       'sentiment_neutral_momentum', 'sentiment_positive_lag_1hr',\n",
       "       'sentiment_negative_lag_1hr', 'sentiment_neutral_lag_1hr',\n",
       "       'sentiment_positive_lag_6hr', 'sentiment_positive_lag_7hr',\n",
       "       'sentiment_negative_lag_7hr', 'sentiment_neutral_lag_7hr'],\n",
       "      dtype='object')"
      ]
     },
     "execution_count": 40,
     "metadata": {},
     "output_type": "execute_result"
    }
   ],
   "source": [
    "rfe_features"
   ]
  },
  {
   "cell_type": "code",
   "execution_count": null,
   "id": "757f47e8",
   "metadata": {},
   "outputs": [],
   "source": []
  }
 ],
 "metadata": {
  "kernelspec": {
   "display_name": "Python 3 (ipykernel)",
   "language": "python",
   "name": "python3"
  },
  "language_info": {
   "codemirror_mode": {
    "name": "ipython",
    "version": 3
   },
   "file_extension": ".py",
   "mimetype": "text/x-python",
   "name": "python",
   "nbconvert_exporter": "python",
   "pygments_lexer": "ipython3",
   "version": "3.11.2"
  }
 },
 "nbformat": 4,
 "nbformat_minor": 5
}
