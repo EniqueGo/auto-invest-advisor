{
 "cells": [
  {
   "cell_type": "code",
   "execution_count": 1,
   "id": "initial_id",
   "metadata": {
    "collapsed": true,
    "ExecuteTime": {
     "end_time": "2024-08-07T01:06:42.000757Z",
     "start_time": "2024-08-07T01:06:41.776193Z"
    }
   },
   "outputs": [],
   "source": [
    "from prophet.serialize import model_to_json, model_from_json\n",
    "\n",
    "import pandas as pd\n",
    "import yfinance as yf\n",
    "\n",
    "import seaborn as sns\n",
    "\n",
    "import matplotlib.pyplot as plt\n",
    "\n",
    "import pytz\n",
    "\n",
    "#sns.cubehelix_palette(start=.5, rot=-.75, as_cmap=True)\n",
    "sns.set(style=\"whitegrid\", color_codes=True)\n",
    "\n",
    "# Set color for all bar plots\n",
    "sns.set_palette('pastel')\n",
    "\n",
    "\n",
    "def convert_df_col_time_from_utc_to_tz(df, col='ds', from_tz='UTC', to_tz='US/Eastern'  ):\n",
    "    \"\"\"\n",
    "    Convert the time in the column from UTC to the timezone\n",
    "    :param df: dataframe\n",
    "    :param col: column name\n",
    "    :return: dataframe\n",
    "    \"\"\"\n",
    "    eastern = pytz.timezone(to_tz)\n",
    "    df[col] = pd.to_datetime(df[col])\n",
    "    df[col] = df[col].dt.tz_localize(from_tz).dt.tz_convert(eastern)\n",
    "    return df\n"
   ]
  },
  {
   "cell_type": "code",
   "outputs": [
    {
     "name": "stderr",
     "output_type": "stream",
     "text": [
      "[*********************100%%**********************]  1 of 1 completed\n"
     ]
    },
    {
     "data": {
      "text/plain": "             Datetime          Open          High           Low         Close  \\\n0 2022-08-07 01:00:00  22894.796875  22937.226562  22894.796875  22921.767578   \n1 2022-08-07 02:00:00  22923.601562  22991.818359  22920.060547  22991.818359   \n2 2022-08-07 03:00:00  22994.587891  23021.953125  22991.279297  23000.361328   \n3 2022-08-07 04:00:00  22999.648438  23019.000000  22963.537109  22968.437500   \n4 2022-08-07 05:00:00  22965.314453  22999.927734  22965.314453  22980.751953   \n\n      Adj Close    Volume  \n0  22921.767578         0  \n1  22991.818359         0  \n2  23000.361328         0  \n3  22968.437500  51468288  \n4  22980.751953         0  ",
      "text/html": "<div>\n<style scoped>\n    .dataframe tbody tr th:only-of-type {\n        vertical-align: middle;\n    }\n\n    .dataframe tbody tr th {\n        vertical-align: top;\n    }\n\n    .dataframe thead th {\n        text-align: right;\n    }\n</style>\n<table border=\"1\" class=\"dataframe\">\n  <thead>\n    <tr style=\"text-align: right;\">\n      <th></th>\n      <th>Datetime</th>\n      <th>Open</th>\n      <th>High</th>\n      <th>Low</th>\n      <th>Close</th>\n      <th>Adj Close</th>\n      <th>Volume</th>\n    </tr>\n  </thead>\n  <tbody>\n    <tr>\n      <th>0</th>\n      <td>2022-08-07 01:00:00</td>\n      <td>22894.796875</td>\n      <td>22937.226562</td>\n      <td>22894.796875</td>\n      <td>22921.767578</td>\n      <td>22921.767578</td>\n      <td>0</td>\n    </tr>\n    <tr>\n      <th>1</th>\n      <td>2022-08-07 02:00:00</td>\n      <td>22923.601562</td>\n      <td>22991.818359</td>\n      <td>22920.060547</td>\n      <td>22991.818359</td>\n      <td>22991.818359</td>\n      <td>0</td>\n    </tr>\n    <tr>\n      <th>2</th>\n      <td>2022-08-07 03:00:00</td>\n      <td>22994.587891</td>\n      <td>23021.953125</td>\n      <td>22991.279297</td>\n      <td>23000.361328</td>\n      <td>23000.361328</td>\n      <td>0</td>\n    </tr>\n    <tr>\n      <th>3</th>\n      <td>2022-08-07 04:00:00</td>\n      <td>22999.648438</td>\n      <td>23019.000000</td>\n      <td>22963.537109</td>\n      <td>22968.437500</td>\n      <td>22968.437500</td>\n      <td>51468288</td>\n    </tr>\n    <tr>\n      <th>4</th>\n      <td>2022-08-07 05:00:00</td>\n      <td>22965.314453</td>\n      <td>22999.927734</td>\n      <td>22965.314453</td>\n      <td>22980.751953</td>\n      <td>22980.751953</td>\n      <td>0</td>\n    </tr>\n  </tbody>\n</table>\n</div>"
     },
     "execution_count": 2,
     "metadata": {},
     "output_type": "execute_result"
    }
   ],
   "source": [
    "# Get BTC data from Yahoo Finance with interval 1h, for the past one year\n",
    "btc_yf_origin = yf.download(tickers='BTC-USD', period='2y', interval='1h')\n",
    "\n",
    "# Reset index and have Datetime as a column\n",
    "btc_yf_origin.reset_index(inplace=True)\n",
    "\n",
    "btc_yf_origin['Datetime'] = pd.to_datetime(btc_yf_origin['Datetime'])\n",
    "\n",
    "# Drop timezone info\n",
    "btc_yf_origin['Datetime'] = btc_yf_origin['Datetime'].dt.tz_localize(None)\n",
    "\n",
    "btc_yf_origin.head()\n"
   ],
   "metadata": {
    "collapsed": false,
    "ExecuteTime": {
     "end_time": "2024-08-07T01:06:42.683026Z",
     "start_time": "2024-08-07T01:06:42.001484Z"
    }
   },
   "id": "69457d88020000ea",
   "execution_count": 2
  },
  {
   "cell_type": "code",
   "outputs": [
    {
     "data": {
      "text/plain": "      current_datetime      training_start        training_end  \\\n61 2024-07-01 12:00:00 2024-01-18 19:00:00 2024-07-15 23:00:00   \n74 2024-07-01 12:00:00 2024-01-22 01:00:00 2024-07-15 23:00:00   \n68 2024-07-01 12:00:00 2024-01-20 13:00:00 2024-07-15 23:00:00   \n77 2024-07-01 12:00:00 2024-01-22 19:00:00 2024-07-15 23:00:00   \n75 2024-07-01 12:00:00 2024-01-22 07:00:00 2024-07-15 23:00:00   \n..                 ...                 ...                 ...   \n4  2024-07-01 12:00:00 2024-01-04 13:00:00 2024-07-02 12:00:00   \n3  2024-07-01 12:00:00 2024-01-04 07:00:00 2024-07-02 06:00:00   \n2  2024-07-01 12:00:00 2024-01-04 01:00:00 2024-07-02 00:00:00   \n1  2024-07-01 12:00:00 2024-01-03 19:00:00 2024-07-01 18:00:00   \n0  2024-07-01 12:00:00 2024-01-03 13:00:00 2024-07-01 12:00:00   \n\n    validation_size       mystery_start         mystery_end  \\\n61              382 2024-07-16 00:00:00 2024-07-20 23:00:00   \n74              366 2024-07-16 00:00:00 2024-07-20 23:00:00   \n68              373 2024-07-16 00:00:00 2024-07-20 23:00:00   \n77              362 2024-07-16 00:00:00 2024-07-20 23:00:00   \n75              365 2024-07-16 00:00:00 2024-07-20 23:00:00   \n..              ...                 ...                 ...   \n4               385 2024-07-02 13:00:00 2024-07-07 12:00:00   \n3               385 2024-07-02 07:00:00 2024-07-07 06:00:00   \n2               385 2024-07-02 01:00:00 2024-07-07 00:00:00   \n1               385 2024-07-01 19:00:00 2024-07-06 18:00:00   \n0               385 2024-07-01 13:00:00 2024-07-06 12:00:00   \n\n                                  prophet_predictions  \\\n61                        ds  prophet_yhat  prophe...   \n74                        ds  prophet_yhat  prophe...   \n68                        ds  prophet_yhat  prophe...   \n77                        ds  prophet_yhat  prophe...   \n75                        ds  prophet_yhat  prophe...   \n..                                                ...   \n4                         ds  prophet_yhat  prophe...   \n3                         ds  prophet_yhat  prophe...   \n2                         ds  prophet_yhat  prophe...   \n1                         ds  prophet_yhat  prophe...   \n0                         ds  prophet_yhat  prophe...   \n\n                                                    y  \\\n61  [64611.44, 64848.08, 64819.91, 64752.14, 64487...   \n74  [64611.44, 64848.08, 64819.91, 64752.14, 64487...   \n68  [64611.44, 64848.08, 64819.91, 64752.14, 64487...   \n77  [64611.44, 64848.08, 64819.91, 64752.14, 64487...   \n75  [64611.44, 64848.08, 64819.91, 64752.14, 64487...   \n..                                                ...   \n4   [62626.92, 62035.43, 61948.08, 61920.89, 62147...   \n3   [62629.99, 62670.01, 62650.01, 62715.98, 62832...   \n2   [62926.0, 62999.56, 63138.67, 63038.01, 63024....   \n1   [63226.78, 63292.53, 63130.01, 62975.1, 62899....   \n0   [62685.27, 62826.02, 63132.9, 63119.33, 63697....   \n\n                                                 yhat           mse  \\\n61  [62366.84, 62676.47, 63500.996, 63536.86, 6347...  9.134785e+06   \n74  [60134.633, 60731.938, 61299.402, 61855.875, 6...  9.120159e+06   \n68  [61125.06, 61049.914, 61303.668, 61490.555, 61...  1.261932e+07   \n77  [61591.58, 61943.55, 61777.875, 61756.88, 6165...  1.468476e+07   \n75  [61084.96, 60994.367, 61645.84, 62154.918, 622...  1.423172e+07   \n..                                                ...           ...   \n4   [60421.207, 60156.918, 60098.305, 60333.37, 60...  7.192016e+06   \n3   [61331.902, 60838.086, 60881.88, 61016.996, 61...  8.805537e+06   \n2   [54144.9, 54618.07, 54876.402, 55336.23, 55970...  1.338434e+07   \n1   [55514.453, 56019.92, 56303.73, 56442.676, 566...  1.087905e+07   \n0   [51183.832, 52114.23, 52963.348, 53902.066, 54...  1.628509e+07   \n\n            mae      mape    std_error     rmspe  pcg_same_dir  \n61  2476.096720  0.037725  1733.127176  4.571812      0.546218  \n74  2544.372457  0.038746  1626.753612  4.568856      0.546218  \n68  3368.521579  0.051527  1127.999037  5.414996      0.487395  \n77  3405.879815  0.051887  1756.343859  5.795604      0.521008  \n75  3410.422133  0.052086  1612.681562  5.727856      0.487395  \n..          ...       ...          ...       ...           ...  \n4   2445.433421  0.042604  1100.850503  4.722568      0.579832  \n3   2678.736402  0.046627  1276.678638  5.243196      0.546218  \n2   3084.742315  0.053139  1966.901851  6.308537      0.436975  \n1   2725.084953  0.046665  1858.213524  5.641574      0.478992  \n0   3106.649569  0.053176  2575.620756  6.892172      0.478992  \n\n[78 rows x 15 columns]",
      "text/html": "<div>\n<style scoped>\n    .dataframe tbody tr th:only-of-type {\n        vertical-align: middle;\n    }\n\n    .dataframe tbody tr th {\n        vertical-align: top;\n    }\n\n    .dataframe thead th {\n        text-align: right;\n    }\n</style>\n<table border=\"1\" class=\"dataframe\">\n  <thead>\n    <tr style=\"text-align: right;\">\n      <th></th>\n      <th>current_datetime</th>\n      <th>training_start</th>\n      <th>training_end</th>\n      <th>validation_size</th>\n      <th>mystery_start</th>\n      <th>mystery_end</th>\n      <th>prophet_predictions</th>\n      <th>y</th>\n      <th>yhat</th>\n      <th>mse</th>\n      <th>mae</th>\n      <th>mape</th>\n      <th>std_error</th>\n      <th>rmspe</th>\n      <th>pcg_same_dir</th>\n    </tr>\n  </thead>\n  <tbody>\n    <tr>\n      <th>61</th>\n      <td>2024-07-01 12:00:00</td>\n      <td>2024-01-18 19:00:00</td>\n      <td>2024-07-15 23:00:00</td>\n      <td>382</td>\n      <td>2024-07-16 00:00:00</td>\n      <td>2024-07-20 23:00:00</td>\n      <td>ds  prophet_yhat  prophe...</td>\n      <td>[64611.44, 64848.08, 64819.91, 64752.14, 64487...</td>\n      <td>[62366.84, 62676.47, 63500.996, 63536.86, 6347...</td>\n      <td>9.134785e+06</td>\n      <td>2476.096720</td>\n      <td>0.037725</td>\n      <td>1733.127176</td>\n      <td>4.571812</td>\n      <td>0.546218</td>\n    </tr>\n    <tr>\n      <th>74</th>\n      <td>2024-07-01 12:00:00</td>\n      <td>2024-01-22 01:00:00</td>\n      <td>2024-07-15 23:00:00</td>\n      <td>366</td>\n      <td>2024-07-16 00:00:00</td>\n      <td>2024-07-20 23:00:00</td>\n      <td>ds  prophet_yhat  prophe...</td>\n      <td>[64611.44, 64848.08, 64819.91, 64752.14, 64487...</td>\n      <td>[60134.633, 60731.938, 61299.402, 61855.875, 6...</td>\n      <td>9.120159e+06</td>\n      <td>2544.372457</td>\n      <td>0.038746</td>\n      <td>1626.753612</td>\n      <td>4.568856</td>\n      <td>0.546218</td>\n    </tr>\n    <tr>\n      <th>68</th>\n      <td>2024-07-01 12:00:00</td>\n      <td>2024-01-20 13:00:00</td>\n      <td>2024-07-15 23:00:00</td>\n      <td>373</td>\n      <td>2024-07-16 00:00:00</td>\n      <td>2024-07-20 23:00:00</td>\n      <td>ds  prophet_yhat  prophe...</td>\n      <td>[64611.44, 64848.08, 64819.91, 64752.14, 64487...</td>\n      <td>[61125.06, 61049.914, 61303.668, 61490.555, 61...</td>\n      <td>1.261932e+07</td>\n      <td>3368.521579</td>\n      <td>0.051527</td>\n      <td>1127.999037</td>\n      <td>5.414996</td>\n      <td>0.487395</td>\n    </tr>\n    <tr>\n      <th>77</th>\n      <td>2024-07-01 12:00:00</td>\n      <td>2024-01-22 19:00:00</td>\n      <td>2024-07-15 23:00:00</td>\n      <td>362</td>\n      <td>2024-07-16 00:00:00</td>\n      <td>2024-07-20 23:00:00</td>\n      <td>ds  prophet_yhat  prophe...</td>\n      <td>[64611.44, 64848.08, 64819.91, 64752.14, 64487...</td>\n      <td>[61591.58, 61943.55, 61777.875, 61756.88, 6165...</td>\n      <td>1.468476e+07</td>\n      <td>3405.879815</td>\n      <td>0.051887</td>\n      <td>1756.343859</td>\n      <td>5.795604</td>\n      <td>0.521008</td>\n    </tr>\n    <tr>\n      <th>75</th>\n      <td>2024-07-01 12:00:00</td>\n      <td>2024-01-22 07:00:00</td>\n      <td>2024-07-15 23:00:00</td>\n      <td>365</td>\n      <td>2024-07-16 00:00:00</td>\n      <td>2024-07-20 23:00:00</td>\n      <td>ds  prophet_yhat  prophe...</td>\n      <td>[64611.44, 64848.08, 64819.91, 64752.14, 64487...</td>\n      <td>[61084.96, 60994.367, 61645.84, 62154.918, 622...</td>\n      <td>1.423172e+07</td>\n      <td>3410.422133</td>\n      <td>0.052086</td>\n      <td>1612.681562</td>\n      <td>5.727856</td>\n      <td>0.487395</td>\n    </tr>\n    <tr>\n      <th>...</th>\n      <td>...</td>\n      <td>...</td>\n      <td>...</td>\n      <td>...</td>\n      <td>...</td>\n      <td>...</td>\n      <td>...</td>\n      <td>...</td>\n      <td>...</td>\n      <td>...</td>\n      <td>...</td>\n      <td>...</td>\n      <td>...</td>\n      <td>...</td>\n      <td>...</td>\n    </tr>\n    <tr>\n      <th>4</th>\n      <td>2024-07-01 12:00:00</td>\n      <td>2024-01-04 13:00:00</td>\n      <td>2024-07-02 12:00:00</td>\n      <td>385</td>\n      <td>2024-07-02 13:00:00</td>\n      <td>2024-07-07 12:00:00</td>\n      <td>ds  prophet_yhat  prophe...</td>\n      <td>[62626.92, 62035.43, 61948.08, 61920.89, 62147...</td>\n      <td>[60421.207, 60156.918, 60098.305, 60333.37, 60...</td>\n      <td>7.192016e+06</td>\n      <td>2445.433421</td>\n      <td>0.042604</td>\n      <td>1100.850503</td>\n      <td>4.722568</td>\n      <td>0.579832</td>\n    </tr>\n    <tr>\n      <th>3</th>\n      <td>2024-07-01 12:00:00</td>\n      <td>2024-01-04 07:00:00</td>\n      <td>2024-07-02 06:00:00</td>\n      <td>385</td>\n      <td>2024-07-02 07:00:00</td>\n      <td>2024-07-07 06:00:00</td>\n      <td>ds  prophet_yhat  prophe...</td>\n      <td>[62629.99, 62670.01, 62650.01, 62715.98, 62832...</td>\n      <td>[61331.902, 60838.086, 60881.88, 61016.996, 61...</td>\n      <td>8.805537e+06</td>\n      <td>2678.736402</td>\n      <td>0.046627</td>\n      <td>1276.678638</td>\n      <td>5.243196</td>\n      <td>0.546218</td>\n    </tr>\n    <tr>\n      <th>2</th>\n      <td>2024-07-01 12:00:00</td>\n      <td>2024-01-04 01:00:00</td>\n      <td>2024-07-02 00:00:00</td>\n      <td>385</td>\n      <td>2024-07-02 01:00:00</td>\n      <td>2024-07-07 00:00:00</td>\n      <td>ds  prophet_yhat  prophe...</td>\n      <td>[62926.0, 62999.56, 63138.67, 63038.01, 63024....</td>\n      <td>[54144.9, 54618.07, 54876.402, 55336.23, 55970...</td>\n      <td>1.338434e+07</td>\n      <td>3084.742315</td>\n      <td>0.053139</td>\n      <td>1966.901851</td>\n      <td>6.308537</td>\n      <td>0.436975</td>\n    </tr>\n    <tr>\n      <th>1</th>\n      <td>2024-07-01 12:00:00</td>\n      <td>2024-01-03 19:00:00</td>\n      <td>2024-07-01 18:00:00</td>\n      <td>385</td>\n      <td>2024-07-01 19:00:00</td>\n      <td>2024-07-06 18:00:00</td>\n      <td>ds  prophet_yhat  prophe...</td>\n      <td>[63226.78, 63292.53, 63130.01, 62975.1, 62899....</td>\n      <td>[55514.453, 56019.92, 56303.73, 56442.676, 566...</td>\n      <td>1.087905e+07</td>\n      <td>2725.084953</td>\n      <td>0.046665</td>\n      <td>1858.213524</td>\n      <td>5.641574</td>\n      <td>0.478992</td>\n    </tr>\n    <tr>\n      <th>0</th>\n      <td>2024-07-01 12:00:00</td>\n      <td>2024-01-03 13:00:00</td>\n      <td>2024-07-01 12:00:00</td>\n      <td>385</td>\n      <td>2024-07-01 13:00:00</td>\n      <td>2024-07-06 12:00:00</td>\n      <td>ds  prophet_yhat  prophe...</td>\n      <td>[62685.27, 62826.02, 63132.9, 63119.33, 63697....</td>\n      <td>[51183.832, 52114.23, 52963.348, 53902.066, 54...</td>\n      <td>1.628509e+07</td>\n      <td>3106.649569</td>\n      <td>0.053176</td>\n      <td>2575.620756</td>\n      <td>6.892172</td>\n      <td>0.478992</td>\n    </tr>\n  </tbody>\n</table>\n<p>78 rows × 15 columns</p>\n</div>"
     },
     "execution_count": 3,
     "metadata": {},
     "output_type": "execute_result"
    }
   ],
   "source": [
    "backtest_df = pd.read_pickle('bt-v5-init20240701-epoch100-steph6-batch16-train180.pkl')\n",
    "\n",
    "\n",
    "# Order by mystery_end descending, rmse ascending\n",
    "backtest_df = backtest_df.sort_values(by=['mystery_end', 'mape'], ascending=[False, True])\n",
    "backtest_df"
   ],
   "metadata": {
    "collapsed": false,
    "ExecuteTime": {
     "end_time": "2024-08-07T01:06:42.736621Z",
     "start_time": "2024-08-07T01:06:42.683911Z"
    }
   },
   "id": "18f80b0c9be393e5",
   "execution_count": 3
  },
  {
   "cell_type": "code",
   "outputs": [],
   "source": [
    "with open('prophet_model_61.json', 'r') as fin:\n",
    "    m = model_from_json(fin.read())  # Load model"
   ],
   "metadata": {
    "collapsed": false,
    "ExecuteTime": {
     "end_time": "2024-08-07T01:06:42.866450Z",
     "start_time": "2024-08-07T01:06:42.738939Z"
    }
   },
   "id": "5c3ef0b4f1e2da75",
   "execution_count": 4
  },
  {
   "cell_type": "code",
   "outputs": [
    {
     "data": {
      "text/plain": "                      ds          yhat    yhat_lower    yhat_upper\n0    2024-01-18 13:00:00  42426.034901  39969.755630  44913.003505\n1    2024-01-18 14:00:00  42386.942102  39749.017110  44833.831428\n2    2024-01-18 15:00:00  42357.119415  39726.946135  44789.311347\n3    2024-01-18 16:00:00  42329.984963  39701.298619  44862.614838\n4    2024-01-18 17:00:00  42293.535106  39667.927272  44815.555528\n...                  ...           ...           ...           ...\n4422 2024-07-20 19:00:00  54767.869189  44509.420649  62720.682122\n4423 2024-07-20 20:00:00  54753.048006  44403.734845  62800.303671\n4424 2024-07-20 21:00:00  54762.403408  44907.350535  62388.838699\n4425 2024-07-20 22:00:00  54780.159597  43749.277784  63079.027395\n4426 2024-07-20 23:00:00  54779.495608  44010.955204  63239.191990\n\n[4427 rows x 4 columns]",
      "text/html": "<div>\n<style scoped>\n    .dataframe tbody tr th:only-of-type {\n        vertical-align: middle;\n    }\n\n    .dataframe tbody tr th {\n        vertical-align: top;\n    }\n\n    .dataframe thead th {\n        text-align: right;\n    }\n</style>\n<table border=\"1\" class=\"dataframe\">\n  <thead>\n    <tr style=\"text-align: right;\">\n      <th></th>\n      <th>ds</th>\n      <th>yhat</th>\n      <th>yhat_lower</th>\n      <th>yhat_upper</th>\n    </tr>\n  </thead>\n  <tbody>\n    <tr>\n      <th>0</th>\n      <td>2024-01-18 13:00:00</td>\n      <td>42426.034901</td>\n      <td>39969.755630</td>\n      <td>44913.003505</td>\n    </tr>\n    <tr>\n      <th>1</th>\n      <td>2024-01-18 14:00:00</td>\n      <td>42386.942102</td>\n      <td>39749.017110</td>\n      <td>44833.831428</td>\n    </tr>\n    <tr>\n      <th>2</th>\n      <td>2024-01-18 15:00:00</td>\n      <td>42357.119415</td>\n      <td>39726.946135</td>\n      <td>44789.311347</td>\n    </tr>\n    <tr>\n      <th>3</th>\n      <td>2024-01-18 16:00:00</td>\n      <td>42329.984963</td>\n      <td>39701.298619</td>\n      <td>44862.614838</td>\n    </tr>\n    <tr>\n      <th>4</th>\n      <td>2024-01-18 17:00:00</td>\n      <td>42293.535106</td>\n      <td>39667.927272</td>\n      <td>44815.555528</td>\n    </tr>\n    <tr>\n      <th>...</th>\n      <td>...</td>\n      <td>...</td>\n      <td>...</td>\n      <td>...</td>\n    </tr>\n    <tr>\n      <th>4422</th>\n      <td>2024-07-20 19:00:00</td>\n      <td>54767.869189</td>\n      <td>44509.420649</td>\n      <td>62720.682122</td>\n    </tr>\n    <tr>\n      <th>4423</th>\n      <td>2024-07-20 20:00:00</td>\n      <td>54753.048006</td>\n      <td>44403.734845</td>\n      <td>62800.303671</td>\n    </tr>\n    <tr>\n      <th>4424</th>\n      <td>2024-07-20 21:00:00</td>\n      <td>54762.403408</td>\n      <td>44907.350535</td>\n      <td>62388.838699</td>\n    </tr>\n    <tr>\n      <th>4425</th>\n      <td>2024-07-20 22:00:00</td>\n      <td>54780.159597</td>\n      <td>43749.277784</td>\n      <td>63079.027395</td>\n    </tr>\n    <tr>\n      <th>4426</th>\n      <td>2024-07-20 23:00:00</td>\n      <td>54779.495608</td>\n      <td>44010.955204</td>\n      <td>63239.191990</td>\n    </tr>\n  </tbody>\n</table>\n<p>4427 rows × 4 columns</p>\n</div>"
     },
     "execution_count": 5,
     "metadata": {},
     "output_type": "execute_result"
    }
   ],
   "source": [
    "# Use the model to make a forecast\n",
    "future = m.make_future_dataframe(periods=120, freq='H')\n",
    "\n",
    "forecast = m.predict(future)\n",
    "\n",
    "forecast[['ds', 'yhat', 'yhat_lower', 'yhat_upper']]\n",
    "\n"
   ],
   "metadata": {
    "collapsed": false,
    "ExecuteTime": {
     "end_time": "2024-08-07T01:06:43.355530Z",
     "start_time": "2024-08-07T01:06:42.867538Z"
    }
   },
   "id": "c4278cb2c004cc61",
   "execution_count": 5
  },
  {
   "cell_type": "code",
   "outputs": [
    {
     "name": "stdout",
     "output_type": "stream",
     "text": [
      "2024-01-18 13:00:00\n",
      "2024-07-20 23:00:00\n"
     ]
    }
   ],
   "source": [
    "# Print range of forecast['ds']\n",
    "print(forecast['ds'].min())\n",
    "print(forecast['ds'].max())"
   ],
   "metadata": {
    "collapsed": false,
    "ExecuteTime": {
     "end_time": "2024-08-07T01:06:43.358932Z",
     "start_time": "2024-08-07T01:06:43.356548Z"
    }
   },
   "id": "a16c3629bae06dda",
   "execution_count": 6
  },
  {
   "cell_type": "code",
   "outputs": [
    {
     "data": {
      "text/plain": "                      ds         trend    yhat_lower    yhat_upper  \\\n4307 2024-07-16 00:00:00  56438.150333  54412.565393  59734.279396   \n4308 2024-07-16 01:00:00  56424.752369  54415.605896  59441.656569   \n4309 2024-07-16 02:00:00  56411.354405  54095.453009  59458.284653   \n4310 2024-07-16 03:00:00  56397.956441  54153.218203  59439.483467   \n4311 2024-07-16 04:00:00  56384.558478  54166.577829  59115.159862   \n...                  ...           ...           ...           ...   \n4422 2024-07-20 19:00:00  54897.384493  44509.420649  62720.682122   \n4423 2024-07-20 20:00:00  54883.986529  44403.734845  62800.303671   \n4424 2024-07-20 21:00:00  54870.588565  44907.350535  62388.838699   \n4425 2024-07-20 22:00:00  54857.190601  43749.277784  63079.027395   \n4426 2024-07-20 23:00:00  54843.792637  44010.955204  63239.191990   \n\n       trend_lower   trend_upper     daily  daily_lower  daily_upper  \\\n4307  56438.150333  56438.150333  0.000372     0.000372     0.000372   \n4308  56424.752369  56424.752369 -0.000417    -0.000417    -0.000417   \n4309  56411.354405  56411.354405 -0.001093    -0.001093    -0.001093   \n4310  56397.956441  56397.956441 -0.001261    -0.001261    -0.001261   \n4311  56384.558478  56384.558478 -0.000939    -0.000939    -0.000939   \n...            ...           ...       ...          ...          ...   \n4422  45245.686938  62351.331690 -0.000330    -0.000330    -0.000330   \n4423  45052.283471  62506.981325 -0.000385    -0.000385    -0.000385   \n4424  44858.880003  62717.582936  0.000006     0.000006     0.000006   \n4425  44665.476536  62931.681958  0.000552     0.000552     0.000552   \n4426  44472.073069  63143.902157  0.000764     0.000764     0.000764   \n\n      multiplicative_terms  multiplicative_terms_lower  \\\n4307              0.009059                    0.009059   \n4308              0.007804                    0.007804   \n4309              0.006616                    0.006616   \n4310              0.005895                    0.005895   \n4311              0.005626                    0.005626   \n...                    ...                         ...   \n4422             -0.002359                   -0.002359   \n4423             -0.002386                   -0.002386   \n4424             -0.001972                   -0.001972   \n4425             -0.001404                   -0.001404   \n4426             -0.001172                   -0.001172   \n\n      multiplicative_terms_upper    weekly  weekly_lower  weekly_upper  \\\n4307                    0.009059  0.008687      0.008687      0.008687   \n4308                    0.007804  0.008221      0.008221      0.008221   \n4309                    0.006616  0.007710      0.007710      0.007710   \n4310                    0.005895  0.007156      0.007156      0.007156   \n4311                    0.005626  0.006565      0.006565      0.006565   \n...                          ...       ...           ...           ...   \n4422                   -0.002359 -0.002029     -0.002029     -0.002029   \n4423                   -0.002386 -0.002000     -0.002000     -0.002000   \n4424                   -0.001972 -0.001977     -0.001977     -0.001977   \n4425                   -0.001404 -0.001957     -0.001957     -0.001957   \n4426                   -0.001172 -0.001936     -0.001936     -0.001936   \n\n      additive_terms  additive_terms_lower  additive_terms_upper          yhat  \n4307             0.0                   0.0                   0.0  56949.417354  \n4308             0.0                   0.0                   0.0  56865.083817  \n4309             0.0                   0.0                   0.0  56784.591837  \n4310             0.0                   0.0                   0.0  56730.439226  \n4311             0.0                   0.0                   0.0  56701.775584  \n...              ...                   ...                   ...           ...  \n4422             0.0                   0.0                   0.0  54767.869189  \n4423             0.0                   0.0                   0.0  54753.048006  \n4424             0.0                   0.0                   0.0  54762.403408  \n4425             0.0                   0.0                   0.0  54780.159597  \n4426             0.0                   0.0                   0.0  54779.495608  \n\n[120 rows x 19 columns]",
      "text/html": "<div>\n<style scoped>\n    .dataframe tbody tr th:only-of-type {\n        vertical-align: middle;\n    }\n\n    .dataframe tbody tr th {\n        vertical-align: top;\n    }\n\n    .dataframe thead th {\n        text-align: right;\n    }\n</style>\n<table border=\"1\" class=\"dataframe\">\n  <thead>\n    <tr style=\"text-align: right;\">\n      <th></th>\n      <th>ds</th>\n      <th>trend</th>\n      <th>yhat_lower</th>\n      <th>yhat_upper</th>\n      <th>trend_lower</th>\n      <th>trend_upper</th>\n      <th>daily</th>\n      <th>daily_lower</th>\n      <th>daily_upper</th>\n      <th>multiplicative_terms</th>\n      <th>multiplicative_terms_lower</th>\n      <th>multiplicative_terms_upper</th>\n      <th>weekly</th>\n      <th>weekly_lower</th>\n      <th>weekly_upper</th>\n      <th>additive_terms</th>\n      <th>additive_terms_lower</th>\n      <th>additive_terms_upper</th>\n      <th>yhat</th>\n    </tr>\n  </thead>\n  <tbody>\n    <tr>\n      <th>4307</th>\n      <td>2024-07-16 00:00:00</td>\n      <td>56438.150333</td>\n      <td>54412.565393</td>\n      <td>59734.279396</td>\n      <td>56438.150333</td>\n      <td>56438.150333</td>\n      <td>0.000372</td>\n      <td>0.000372</td>\n      <td>0.000372</td>\n      <td>0.009059</td>\n      <td>0.009059</td>\n      <td>0.009059</td>\n      <td>0.008687</td>\n      <td>0.008687</td>\n      <td>0.008687</td>\n      <td>0.0</td>\n      <td>0.0</td>\n      <td>0.0</td>\n      <td>56949.417354</td>\n    </tr>\n    <tr>\n      <th>4308</th>\n      <td>2024-07-16 01:00:00</td>\n      <td>56424.752369</td>\n      <td>54415.605896</td>\n      <td>59441.656569</td>\n      <td>56424.752369</td>\n      <td>56424.752369</td>\n      <td>-0.000417</td>\n      <td>-0.000417</td>\n      <td>-0.000417</td>\n      <td>0.007804</td>\n      <td>0.007804</td>\n      <td>0.007804</td>\n      <td>0.008221</td>\n      <td>0.008221</td>\n      <td>0.008221</td>\n      <td>0.0</td>\n      <td>0.0</td>\n      <td>0.0</td>\n      <td>56865.083817</td>\n    </tr>\n    <tr>\n      <th>4309</th>\n      <td>2024-07-16 02:00:00</td>\n      <td>56411.354405</td>\n      <td>54095.453009</td>\n      <td>59458.284653</td>\n      <td>56411.354405</td>\n      <td>56411.354405</td>\n      <td>-0.001093</td>\n      <td>-0.001093</td>\n      <td>-0.001093</td>\n      <td>0.006616</td>\n      <td>0.006616</td>\n      <td>0.006616</td>\n      <td>0.007710</td>\n      <td>0.007710</td>\n      <td>0.007710</td>\n      <td>0.0</td>\n      <td>0.0</td>\n      <td>0.0</td>\n      <td>56784.591837</td>\n    </tr>\n    <tr>\n      <th>4310</th>\n      <td>2024-07-16 03:00:00</td>\n      <td>56397.956441</td>\n      <td>54153.218203</td>\n      <td>59439.483467</td>\n      <td>56397.956441</td>\n      <td>56397.956441</td>\n      <td>-0.001261</td>\n      <td>-0.001261</td>\n      <td>-0.001261</td>\n      <td>0.005895</td>\n      <td>0.005895</td>\n      <td>0.005895</td>\n      <td>0.007156</td>\n      <td>0.007156</td>\n      <td>0.007156</td>\n      <td>0.0</td>\n      <td>0.0</td>\n      <td>0.0</td>\n      <td>56730.439226</td>\n    </tr>\n    <tr>\n      <th>4311</th>\n      <td>2024-07-16 04:00:00</td>\n      <td>56384.558478</td>\n      <td>54166.577829</td>\n      <td>59115.159862</td>\n      <td>56384.558478</td>\n      <td>56384.558478</td>\n      <td>-0.000939</td>\n      <td>-0.000939</td>\n      <td>-0.000939</td>\n      <td>0.005626</td>\n      <td>0.005626</td>\n      <td>0.005626</td>\n      <td>0.006565</td>\n      <td>0.006565</td>\n      <td>0.006565</td>\n      <td>0.0</td>\n      <td>0.0</td>\n      <td>0.0</td>\n      <td>56701.775584</td>\n    </tr>\n    <tr>\n      <th>...</th>\n      <td>...</td>\n      <td>...</td>\n      <td>...</td>\n      <td>...</td>\n      <td>...</td>\n      <td>...</td>\n      <td>...</td>\n      <td>...</td>\n      <td>...</td>\n      <td>...</td>\n      <td>...</td>\n      <td>...</td>\n      <td>...</td>\n      <td>...</td>\n      <td>...</td>\n      <td>...</td>\n      <td>...</td>\n      <td>...</td>\n      <td>...</td>\n    </tr>\n    <tr>\n      <th>4422</th>\n      <td>2024-07-20 19:00:00</td>\n      <td>54897.384493</td>\n      <td>44509.420649</td>\n      <td>62720.682122</td>\n      <td>45245.686938</td>\n      <td>62351.331690</td>\n      <td>-0.000330</td>\n      <td>-0.000330</td>\n      <td>-0.000330</td>\n      <td>-0.002359</td>\n      <td>-0.002359</td>\n      <td>-0.002359</td>\n      <td>-0.002029</td>\n      <td>-0.002029</td>\n      <td>-0.002029</td>\n      <td>0.0</td>\n      <td>0.0</td>\n      <td>0.0</td>\n      <td>54767.869189</td>\n    </tr>\n    <tr>\n      <th>4423</th>\n      <td>2024-07-20 20:00:00</td>\n      <td>54883.986529</td>\n      <td>44403.734845</td>\n      <td>62800.303671</td>\n      <td>45052.283471</td>\n      <td>62506.981325</td>\n      <td>-0.000385</td>\n      <td>-0.000385</td>\n      <td>-0.000385</td>\n      <td>-0.002386</td>\n      <td>-0.002386</td>\n      <td>-0.002386</td>\n      <td>-0.002000</td>\n      <td>-0.002000</td>\n      <td>-0.002000</td>\n      <td>0.0</td>\n      <td>0.0</td>\n      <td>0.0</td>\n      <td>54753.048006</td>\n    </tr>\n    <tr>\n      <th>4424</th>\n      <td>2024-07-20 21:00:00</td>\n      <td>54870.588565</td>\n      <td>44907.350535</td>\n      <td>62388.838699</td>\n      <td>44858.880003</td>\n      <td>62717.582936</td>\n      <td>0.000006</td>\n      <td>0.000006</td>\n      <td>0.000006</td>\n      <td>-0.001972</td>\n      <td>-0.001972</td>\n      <td>-0.001972</td>\n      <td>-0.001977</td>\n      <td>-0.001977</td>\n      <td>-0.001977</td>\n      <td>0.0</td>\n      <td>0.0</td>\n      <td>0.0</td>\n      <td>54762.403408</td>\n    </tr>\n    <tr>\n      <th>4425</th>\n      <td>2024-07-20 22:00:00</td>\n      <td>54857.190601</td>\n      <td>43749.277784</td>\n      <td>63079.027395</td>\n      <td>44665.476536</td>\n      <td>62931.681958</td>\n      <td>0.000552</td>\n      <td>0.000552</td>\n      <td>0.000552</td>\n      <td>-0.001404</td>\n      <td>-0.001404</td>\n      <td>-0.001404</td>\n      <td>-0.001957</td>\n      <td>-0.001957</td>\n      <td>-0.001957</td>\n      <td>0.0</td>\n      <td>0.0</td>\n      <td>0.0</td>\n      <td>54780.159597</td>\n    </tr>\n    <tr>\n      <th>4426</th>\n      <td>2024-07-20 23:00:00</td>\n      <td>54843.792637</td>\n      <td>44010.955204</td>\n      <td>63239.191990</td>\n      <td>44472.073069</td>\n      <td>63143.902157</td>\n      <td>0.000764</td>\n      <td>0.000764</td>\n      <td>0.000764</td>\n      <td>-0.001172</td>\n      <td>-0.001172</td>\n      <td>-0.001172</td>\n      <td>-0.001936</td>\n      <td>-0.001936</td>\n      <td>-0.001936</td>\n      <td>0.0</td>\n      <td>0.0</td>\n      <td>0.0</td>\n      <td>54779.495608</td>\n    </tr>\n  </tbody>\n</table>\n<p>120 rows × 19 columns</p>\n</div>"
     },
     "execution_count": 7,
     "metadata": {},
     "output_type": "execute_result"
    }
   ],
   "source": [
    "# calculate rmse and mape of the forecast\n",
    "test_y = backtest_df['y'][0]\n",
    "\n",
    "#test_y\n",
    "\n",
    "# Get the last 120 date in forecast\n",
    "last_120 = forecast.tail(120)\n",
    "last_120\n",
    "\n"
   ],
   "metadata": {
    "collapsed": false,
    "ExecuteTime": {
     "end_time": "2024-08-07T01:06:43.370467Z",
     "start_time": "2024-08-07T01:06:43.360435Z"
    }
   },
   "id": "69089e994ddb0d2f",
   "execution_count": 7
  },
  {
   "cell_type": "code",
   "outputs": [
    {
     "name": "stdout",
     "output_type": "stream",
     "text": [
      "Prophet RMSE: 4417.510256517579\n",
      "Prophet MAPE: 0.06322341058625591\n"
     ]
    }
   ],
   "source": [
    "# Calculate RMSE\n",
    "rmse = ((last_120['yhat'] - test_y) ** 2).mean() ** .5\n",
    "\n",
    "# Calculate MAPE\n",
    "mape = (abs(last_120['yhat'] - test_y) / test_y).mean()\n",
    "\n",
    "\n",
    "\n",
    "print(f'Prophet RMSE: {rmse}')\n",
    "print(f'Prophet MAPE: {mape}')\n"
   ],
   "metadata": {
    "collapsed": false,
    "ExecuteTime": {
     "end_time": "2024-08-07T01:06:48.464533Z",
     "start_time": "2024-08-07T01:06:48.461460Z"
    }
   },
   "id": "1f8328c2acfa8929",
   "execution_count": 8
  },
  {
   "cell_type": "code",
   "outputs": [],
   "source": [],
   "metadata": {
    "collapsed": false
   },
   "id": "1c67004cc434b49f",
   "execution_count": null
  },
  {
   "cell_type": "code",
   "outputs": [],
   "source": [],
   "metadata": {
    "collapsed": false,
    "ExecuteTime": {
     "end_time": "2024-08-05T02:15:11.427470Z",
     "start_time": "2024-08-05T02:15:11.426164Z"
    }
   },
   "id": "f617de3081d557b",
   "execution_count": 39
  },
  {
   "cell_type": "code",
   "outputs": [],
   "source": [],
   "metadata": {
    "collapsed": false,
    "ExecuteTime": {
     "end_time": "2024-08-05T02:15:11.429325Z",
     "start_time": "2024-08-05T02:15:11.428195Z"
    }
   },
   "id": "2b2e1e6844938164",
   "execution_count": 39
  },
  {
   "cell_type": "code",
   "outputs": [],
   "source": [],
   "metadata": {
    "collapsed": false
   },
   "id": "5bd5854de9ff6fb1"
  }
 ],
 "metadata": {
  "kernelspec": {
   "display_name": "Python 3",
   "language": "python",
   "name": "python3"
  },
  "language_info": {
   "codemirror_mode": {
    "name": "ipython",
    "version": 2
   },
   "file_extension": ".py",
   "mimetype": "text/x-python",
   "name": "python",
   "nbconvert_exporter": "python",
   "pygments_lexer": "ipython2",
   "version": "2.7.6"
  }
 },
 "nbformat": 4,
 "nbformat_minor": 5
}
