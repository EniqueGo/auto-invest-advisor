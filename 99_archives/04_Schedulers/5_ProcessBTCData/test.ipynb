{
 "cells": [
  {
   "cell_type": "code",
   "outputs": [],
   "source": [
    "import pandas as pd\n",
    "import numpy as np\n",
    "import ta\n",
    "from google.cloud import storage\n",
    "#import functions_framework\n",
    "\n",
    "\n",
    "btc_df = pd.read_csv(\"historical_bitcoin_data.csv\")\n",
    "btc_df['ds'] = pd.to_datetime(btc_df['ds'] )"
   ],
   "metadata": {
    "collapsed": false,
    "ExecuteTime": {
     "end_time": "2024-08-03T07:32:09.430103Z",
     "start_time": "2024-08-03T07:32:09.373249Z"
    }
   },
   "id": "b894ef6801f458a0",
   "execution_count": 14
  },
  {
   "cell_type": "code",
   "outputs": [
    {
     "data": {
      "text/plain": "((48984, 10),\n Timestamp('2019-01-01 00:00:00'),\n Timestamp('2024-08-02 23:00:00'))"
     },
     "execution_count": 15,
     "metadata": {},
     "output_type": "execute_result"
    }
   ],
   "source": [
    "btc_df.shape, btc_df['ds'].min(), btc_df['ds'].max()"
   ],
   "metadata": {
    "collapsed": false,
    "ExecuteTime": {
     "end_time": "2024-08-03T07:32:09.744345Z",
     "start_time": "2024-08-03T07:32:09.740092Z"
    }
   },
   "id": "462ce5feeb2d28dd",
   "execution_count": 15
  },
  {
   "cell_type": "code",
   "outputs": [],
   "source": [
    "\n",
    "\n",
    "btc_df['RSI'] = ta.momentum.RSIIndicator(btc_df['y']).rsi()\n",
    "\n",
    "macd = ta.trend.MACD(btc_df['y'])\n",
    "btc_df['MACD'] = macd.macd()\n",
    "btc_df['MACD_signal'] = macd.macd_signal()\n",
    "btc_df['MACD_diff'] = macd.macd_diff()\n",
    "\n",
    "\n",
    "# Calculate typical price for MFI\n",
    "btc_df['typical_price'] = (btc_df['y_upper'] + btc_df['y_lower'] + btc_df['y']) / 3\n",
    "\n",
    "# Calculate raw money flow\n",
    "btc_df['raw_money_flow'] = btc_df['typical_price'] * btc_df['volume']\n",
    "\n",
    "# Calculate positive and negative money flow\n",
    "btc_df['positive_money_flow'] = np.where(btc_df['typical_price'] > btc_df['typical_price'].shift(1), btc_df['raw_money_flow'], 0)\n",
    "btc_df['negative_money_flow'] = np.where(btc_df['typical_price'] < btc_df['typical_price'].shift(1), btc_df['raw_money_flow'], 0)\n",
    "\n",
    "\n",
    "# Calculate money flow ratio\n",
    "positive_money_flow_rolling = btc_df['positive_money_flow'].rolling(window=14).sum()\n",
    "negative_money_flow_rolling = btc_df['negative_money_flow'].rolling(window=14).sum()\n",
    "money_flow_ratio = positive_money_flow_rolling / negative_money_flow_rolling\n",
    "\n",
    "# Calculate MFI\n",
    "btc_df['MFI'] = 100 - (100 / (1 + money_flow_ratio))\n",
    "\n",
    "\n",
    "# Bollinger Bands for volatility indicator\n",
    "rolling_mean = btc_df['y'].rolling(window=20).mean()\n",
    "rolling_std = btc_df['y'].rolling(window=20).std()\n",
    "btc_df['bollinger_upper'] = rolling_mean + (rolling_std * 2)\n",
    "btc_df['bollinger_lower'] = rolling_mean - (rolling_std * 2)"
   ],
   "metadata": {
    "collapsed": false,
    "ExecuteTime": {
     "end_time": "2024-08-03T07:32:10.606453Z",
     "start_time": "2024-08-03T07:32:10.583874Z"
    }
   },
   "id": "aed0fd5f404244b4",
   "execution_count": 16
  },
  {
   "cell_type": "code",
   "outputs": [
    {
     "data": {
      "text/plain": "((48984, 21),\n Timestamp('2019-01-01 00:00:00'),\n Timestamp('2024-08-02 23:00:00'))"
     },
     "execution_count": 17,
     "metadata": {},
     "output_type": "execute_result"
    }
   ],
   "source": [
    "btc_df.shape, btc_df['ds'].min(), btc_df['ds'].max()"
   ],
   "metadata": {
    "collapsed": false,
    "ExecuteTime": {
     "end_time": "2024-08-03T07:32:14.230827Z",
     "start_time": "2024-08-03T07:32:14.219503Z"
    }
   },
   "id": "f022a82b566a70b7",
   "execution_count": 17
  },
  {
   "cell_type": "code",
   "outputs": [
    {
     "data": {
      "text/plain": "                    ds  open_price  y_upper  y_lower        y       volume  \\\n0  2019-01-01 00:00:00     3701.23  3713.00  3689.88  3700.31   686.367420   \n1  2019-01-01 01:00:00     3700.20  3702.73  3684.22  3689.69   613.539115   \n2  2019-01-01 02:00:00     3689.67  3695.95  3675.04  3690.00   895.302181   \n3  2019-01-01 03:00:00     3690.00  3699.77  3685.78  3693.13   796.714818   \n4  2019-01-01 04:00:00     3692.32  3720.00  3685.94  3692.71  1317.452909   \n5  2019-01-01 05:00:00     3693.98  3704.44  3692.73  3699.94   572.402228   \n6  2019-01-01 06:00:00     3699.95  3713.93  3697.00  3703.56   660.279771   \n7  2019-01-01 07:00:00     3703.63  3726.64  3703.34  3713.83   823.625491   \n8  2019-01-01 08:00:00     3714.19  3731.19  3707.00  3716.70   887.101362   \n9  2019-01-01 09:00:00     3716.98  3732.00  3696.14  3699.95   955.879034   \n10 2019-01-01 10:00:00     3699.96  3717.11  3698.00  3713.07   534.113945   \n11 2019-01-01 11:00:00     3713.07  3722.22  3706.88  3707.54   600.664642   \n12 2019-01-01 12:00:00     3707.56  3725.00  3698.25  3717.00   654.277710   \n13 2019-01-01 13:00:00     3717.00  3756.94  3708.41  3715.93   941.785695   \n14 2019-01-01 14:00:00     3715.23  3717.00  3684.21  3698.53  1127.366632   \n15 2019-01-01 15:00:00     3698.28  3698.87  3666.01  3682.61   996.688532   \n16 2019-01-01 16:00:00     3683.00  3696.23  3677.48  3693.54   629.180280   \n17 2019-01-01 17:00:00     3693.50  3701.68  3675.01  3686.32   380.215487   \n18 2019-01-01 18:00:00     3686.34  3686.35  3642.00  3659.41  1083.207096   \n19 2019-01-01 19:00:00     3659.56  3699.99  3659.56  3696.73  1155.513112   \n20 2019-01-01 20:00:00     3696.71  3726.93  3675.67  3719.00  2021.170948   \n21 2019-01-01 21:00:00     3719.00  3730.01  3700.00  3708.21  1105.501735   \n22 2019-01-01 22:00:00     3707.98  3717.07  3692.42  3711.20   624.620136   \n23 2019-01-01 23:00:00     3712.85  3810.16  3706.43  3797.14  3678.716754   \n24 2019-01-02 00:00:00     3796.45  3810.00  3763.75  3778.02  2094.025159   \n25 2019-01-02 01:00:00     3778.62  3792.00  3765.75  3770.00   912.811113   \n26 2019-01-02 02:00:00     3769.98  3785.10  3768.00  3783.28   719.302757   \n27 2019-01-02 03:00:00     3783.28  3796.22  3773.79  3779.98   770.368067   \n28 2019-01-02 04:00:00     3780.00  3788.31  3765.00  3776.41   748.260209   \n29 2019-01-02 05:00:00     3776.16  3778.42  3768.00  3773.04   415.849513   \n30 2019-01-02 06:00:00     3773.04  3775.00  3750.45  3758.53   916.986058   \n31 2019-01-02 07:00:00     3758.53  3778.54  3755.40  3771.08  1338.794740   \n32 2019-01-02 08:00:00     3772.64  3800.00  3770.09  3781.35  2216.579225   \n\n    quote_asset_volume  num_of_trades  taker_buy_base_asset_volume  \\\n0         2.539069e+06           5534                   370.855314   \n1         2.266700e+06           5086                   320.644448   \n2         3.302044e+06           6391                   471.857118   \n3         2.942422e+06           5709                   459.948381   \n4         4.872937e+06           7908                   770.995533   \n5         2.117705e+06           3886                   326.520975   \n6         2.446401e+06           4839                   384.509915   \n7         3.057514e+06           5335                   424.739220   \n8         3.300500e+06           6190                   468.473211   \n9         3.545474e+06           5670                   510.885391   \n10        1.981238e+06           4008                   290.434437   \n11        2.231597e+06           4838                   305.098579   \n12        2.428995e+06           4802                   352.182187   \n13        3.506658e+06           5975                   568.857310   \n14        4.174146e+06           6899                   546.537425   \n15        3.670750e+06           6788                   500.265135   \n16        2.320803e+06           4600                   327.562834   \n17        1.403206e+06           4207                   199.429914   \n18        3.966668e+06           7211                   524.277785   \n19        4.247301e+06           6923                   738.862592   \n20        7.499087e+06          11604                  1132.452741   \n21        4.107122e+06           7130                   589.372813   \n22        2.316084e+06           5721                   320.426107   \n23        1.390483e+07          16973                  2013.966534   \n24        7.927726e+06          10665                  1108.378408   \n25        3.450022e+06           6210                   402.318724   \n26        2.716784e+06           5401                   277.573136   \n27        2.915832e+06           5710                   365.280726   \n28        2.825638e+06           5835                   337.312869   \n29        1.568712e+06           5001                   212.921242   \n30        3.451865e+06           6808                   395.508015   \n31        5.042810e+06           9727                   626.514292   \n32        8.383935e+06          14534                  1175.171836   \n\n    taker_buy_quote_asset_volume  ...       MACD  MACD_signal  MACD_diff  \\\n0                   1.371962e+06  ...        NaN          NaN        NaN   \n1                   1.184519e+06  ...        NaN          NaN        NaN   \n2                   1.740469e+06  ...        NaN          NaN        NaN   \n3                   1.698857e+06  ...        NaN          NaN        NaN   \n4                   2.852106e+06  ...        NaN          NaN        NaN   \n5                   1.208150e+06  ...        NaN          NaN        NaN   \n6                   1.424667e+06  ...        NaN          NaN        NaN   \n7                   1.577037e+06  ...        NaN          NaN        NaN   \n8                   1.742964e+06  ...        NaN          NaN        NaN   \n9                   1.895818e+06  ...        NaN          NaN        NaN   \n10                  1.077294e+06  ...        NaN          NaN        NaN   \n11                  1.133572e+06  ...        NaN          NaN        NaN   \n12                  1.307746e+06  ...        NaN          NaN        NaN   \n13                  2.119100e+06  ...        NaN          NaN        NaN   \n14                  2.024162e+06  ...        NaN          NaN        NaN   \n15                  1.842402e+06  ...        NaN          NaN        NaN   \n16                  1.208303e+06  ...        NaN          NaN        NaN   \n17                  7.360856e+05  ...        NaN          NaN        NaN   \n18                  1.920152e+06  ...        NaN          NaN        NaN   \n19                  2.715297e+06  ...        NaN          NaN        NaN   \n20                  4.202782e+06  ...        NaN          NaN        NaN   \n21                  2.190145e+06  ...        NaN          NaN        NaN   \n22                  1.188213e+06  ...        NaN          NaN        NaN   \n23                  7.611631e+06  ...        NaN          NaN        NaN   \n24                  4.197072e+06  ...        NaN          NaN        NaN   \n25                  1.520610e+06  ...  15.105619          NaN        NaN   \n26                  1.048522e+06  ...  18.060503          NaN        NaN   \n27                  1.382916e+06  ...  19.906518          NaN        NaN   \n28                  1.273982e+06  ...  20.841184          NaN        NaN   \n29                  8.032557e+05  ...  21.067135          NaN        NaN   \n30                  1.489121e+06  ...  19.846587          NaN        NaN   \n31                  2.359937e+06  ...  19.665285          NaN        NaN   \n32                  4.445759e+06  ...  20.118393          NaN        NaN   \n\n    typical_price  raw_money_flow  positive_money_flow  negative_money_flow  \\\n0     3701.063333    2.540289e+06         0.000000e+00         0.000000e+00   \n1     3692.213333    2.265317e+06         0.000000e+00         2.265317e+06   \n2     3686.996667    3.300976e+06         0.000000e+00         3.300976e+06   \n3     3692.893333    2.942183e+06         2.942183e+06         0.000000e+00   \n4     3699.550000    4.873983e+06         4.873983e+06         0.000000e+00   \n5     3699.036667    2.117337e+06         0.000000e+00         2.117337e+06   \n6     3704.830000    2.446224e+06         2.446224e+06         0.000000e+00   \n7     3714.603333    3.059442e+06         3.059442e+06         0.000000e+00   \n8     3718.296667    3.298506e+06         3.298506e+06         0.000000e+00   \n9     3709.363333    3.545703e+06         0.000000e+00         3.545703e+06   \n10    3709.393333    1.981239e+06         1.981239e+06         0.000000e+00   \n11    3712.213333    2.229795e+06         2.229795e+06         0.000000e+00   \n12    3713.416667    2.429606e+06         2.429606e+06         0.000000e+00   \n13    3727.093333    3.510123e+06         3.510123e+06         0.000000e+00   \n14    3699.913333    4.171159e+06         0.000000e+00         4.171159e+06   \n15    3682.496667    3.670302e+06         0.000000e+00         3.670302e+06   \n16    3689.083333    2.321098e+06         2.321098e+06         0.000000e+00   \n17    3687.670000    1.402109e+06         0.000000e+00         1.402109e+06   \n18    3662.586667    3.967340e+06         0.000000e+00         3.967340e+06   \n19    3685.426667    4.258559e+06         4.258559e+06         0.000000e+00   \n20    3707.200000    7.492885e+06         7.492885e+06         0.000000e+00   \n21    3712.740000    4.104441e+06         4.104441e+06         0.000000e+00   \n22    3706.896667    2.315402e+06         0.000000e+00         2.315402e+06   \n23    3771.243333    1.387334e+07         1.387334e+07         0.000000e+00   \n24    3783.923333    7.923631e+06         7.923631e+06         0.000000e+00   \n25    3775.916667    3.446699e+06         0.000000e+00         3.446699e+06   \n26    3778.793333    2.718096e+06         2.718096e+06         0.000000e+00   \n27    3783.330000    2.914557e+06         2.914557e+06         0.000000e+00   \n28    3776.573333    2.825860e+06         0.000000e+00         2.825860e+06   \n29    3773.153333    1.569064e+06         0.000000e+00         1.569064e+06   \n30    3761.326667    3.449084e+06         0.000000e+00         3.449084e+06   \n31    3768.340000    5.045034e+06         5.045034e+06         0.000000e+00   \n32    3783.813333    8.387122e+06         8.387122e+06         0.000000e+00   \n\n          MFI  bollinger_upper  bollinger_lower  \n0         NaN              NaN              NaN  \n1         NaN              NaN              NaN  \n2         NaN              NaN              NaN  \n3         NaN              NaN              NaN  \n4         NaN              NaN              NaN  \n5         NaN              NaN              NaN  \n6         NaN              NaN              NaN  \n7         NaN              NaN              NaN  \n8         NaN              NaN              NaN  \n9         NaN              NaN              NaN  \n10        NaN              NaN              NaN  \n11        NaN              NaN              NaN  \n12        NaN              NaN              NaN  \n13  70.449461              NaN              NaN  \n14  63.481361              NaN              NaN  \n15  61.434611              NaN              NaN  \n16  68.296839              NaN              NaN  \n17  63.692561              NaN              NaN  \n18  52.991389              NaN              NaN  \n19  60.378020      3726.465496      3670.584504  \n20  64.602095      3728.863267      3670.055733  \n21  65.366638      3729.660030      3671.110970  \n22  59.763478      3730.671889      3672.219111  \n23  73.104082      3758.159411      3655.132589  \n24  75.614317      3770.983204      3650.839796  \n25  70.759779      3779.734042      3649.094958  \n26  70.889208      3790.326522      3646.474478  \n27  70.620742      3798.657443      3644.758557  \n28  72.123187      3805.367952      3644.019048  \n29  74.602172      3810.902964      3645.793036  \n30  69.522592      3813.904896      3647.337104  \n31  73.334772      3818.214657      3649.381343  \n32  80.652191      3823.613531      3650.417469  \n\n[33 rows x 21 columns]",
      "text/html": "<div>\n<style scoped>\n    .dataframe tbody tr th:only-of-type {\n        vertical-align: middle;\n    }\n\n    .dataframe tbody tr th {\n        vertical-align: top;\n    }\n\n    .dataframe thead th {\n        text-align: right;\n    }\n</style>\n<table border=\"1\" class=\"dataframe\">\n  <thead>\n    <tr style=\"text-align: right;\">\n      <th></th>\n      <th>ds</th>\n      <th>open_price</th>\n      <th>y_upper</th>\n      <th>y_lower</th>\n      <th>y</th>\n      <th>volume</th>\n      <th>quote_asset_volume</th>\n      <th>num_of_trades</th>\n      <th>taker_buy_base_asset_volume</th>\n      <th>taker_buy_quote_asset_volume</th>\n      <th>...</th>\n      <th>MACD</th>\n      <th>MACD_signal</th>\n      <th>MACD_diff</th>\n      <th>typical_price</th>\n      <th>raw_money_flow</th>\n      <th>positive_money_flow</th>\n      <th>negative_money_flow</th>\n      <th>MFI</th>\n      <th>bollinger_upper</th>\n      <th>bollinger_lower</th>\n    </tr>\n  </thead>\n  <tbody>\n    <tr>\n      <th>0</th>\n      <td>2019-01-01 00:00:00</td>\n      <td>3701.23</td>\n      <td>3713.00</td>\n      <td>3689.88</td>\n      <td>3700.31</td>\n      <td>686.367420</td>\n      <td>2.539069e+06</td>\n      <td>5534</td>\n      <td>370.855314</td>\n      <td>1.371962e+06</td>\n      <td>...</td>\n      <td>NaN</td>\n      <td>NaN</td>\n      <td>NaN</td>\n      <td>3701.063333</td>\n      <td>2.540289e+06</td>\n      <td>0.000000e+00</td>\n      <td>0.000000e+00</td>\n      <td>NaN</td>\n      <td>NaN</td>\n      <td>NaN</td>\n    </tr>\n    <tr>\n      <th>1</th>\n      <td>2019-01-01 01:00:00</td>\n      <td>3700.20</td>\n      <td>3702.73</td>\n      <td>3684.22</td>\n      <td>3689.69</td>\n      <td>613.539115</td>\n      <td>2.266700e+06</td>\n      <td>5086</td>\n      <td>320.644448</td>\n      <td>1.184519e+06</td>\n      <td>...</td>\n      <td>NaN</td>\n      <td>NaN</td>\n      <td>NaN</td>\n      <td>3692.213333</td>\n      <td>2.265317e+06</td>\n      <td>0.000000e+00</td>\n      <td>2.265317e+06</td>\n      <td>NaN</td>\n      <td>NaN</td>\n      <td>NaN</td>\n    </tr>\n    <tr>\n      <th>2</th>\n      <td>2019-01-01 02:00:00</td>\n      <td>3689.67</td>\n      <td>3695.95</td>\n      <td>3675.04</td>\n      <td>3690.00</td>\n      <td>895.302181</td>\n      <td>3.302044e+06</td>\n      <td>6391</td>\n      <td>471.857118</td>\n      <td>1.740469e+06</td>\n      <td>...</td>\n      <td>NaN</td>\n      <td>NaN</td>\n      <td>NaN</td>\n      <td>3686.996667</td>\n      <td>3.300976e+06</td>\n      <td>0.000000e+00</td>\n      <td>3.300976e+06</td>\n      <td>NaN</td>\n      <td>NaN</td>\n      <td>NaN</td>\n    </tr>\n    <tr>\n      <th>3</th>\n      <td>2019-01-01 03:00:00</td>\n      <td>3690.00</td>\n      <td>3699.77</td>\n      <td>3685.78</td>\n      <td>3693.13</td>\n      <td>796.714818</td>\n      <td>2.942422e+06</td>\n      <td>5709</td>\n      <td>459.948381</td>\n      <td>1.698857e+06</td>\n      <td>...</td>\n      <td>NaN</td>\n      <td>NaN</td>\n      <td>NaN</td>\n      <td>3692.893333</td>\n      <td>2.942183e+06</td>\n      <td>2.942183e+06</td>\n      <td>0.000000e+00</td>\n      <td>NaN</td>\n      <td>NaN</td>\n      <td>NaN</td>\n    </tr>\n    <tr>\n      <th>4</th>\n      <td>2019-01-01 04:00:00</td>\n      <td>3692.32</td>\n      <td>3720.00</td>\n      <td>3685.94</td>\n      <td>3692.71</td>\n      <td>1317.452909</td>\n      <td>4.872937e+06</td>\n      <td>7908</td>\n      <td>770.995533</td>\n      <td>2.852106e+06</td>\n      <td>...</td>\n      <td>NaN</td>\n      <td>NaN</td>\n      <td>NaN</td>\n      <td>3699.550000</td>\n      <td>4.873983e+06</td>\n      <td>4.873983e+06</td>\n      <td>0.000000e+00</td>\n      <td>NaN</td>\n      <td>NaN</td>\n      <td>NaN</td>\n    </tr>\n    <tr>\n      <th>5</th>\n      <td>2019-01-01 05:00:00</td>\n      <td>3693.98</td>\n      <td>3704.44</td>\n      <td>3692.73</td>\n      <td>3699.94</td>\n      <td>572.402228</td>\n      <td>2.117705e+06</td>\n      <td>3886</td>\n      <td>326.520975</td>\n      <td>1.208150e+06</td>\n      <td>...</td>\n      <td>NaN</td>\n      <td>NaN</td>\n      <td>NaN</td>\n      <td>3699.036667</td>\n      <td>2.117337e+06</td>\n      <td>0.000000e+00</td>\n      <td>2.117337e+06</td>\n      <td>NaN</td>\n      <td>NaN</td>\n      <td>NaN</td>\n    </tr>\n    <tr>\n      <th>6</th>\n      <td>2019-01-01 06:00:00</td>\n      <td>3699.95</td>\n      <td>3713.93</td>\n      <td>3697.00</td>\n      <td>3703.56</td>\n      <td>660.279771</td>\n      <td>2.446401e+06</td>\n      <td>4839</td>\n      <td>384.509915</td>\n      <td>1.424667e+06</td>\n      <td>...</td>\n      <td>NaN</td>\n      <td>NaN</td>\n      <td>NaN</td>\n      <td>3704.830000</td>\n      <td>2.446224e+06</td>\n      <td>2.446224e+06</td>\n      <td>0.000000e+00</td>\n      <td>NaN</td>\n      <td>NaN</td>\n      <td>NaN</td>\n    </tr>\n    <tr>\n      <th>7</th>\n      <td>2019-01-01 07:00:00</td>\n      <td>3703.63</td>\n      <td>3726.64</td>\n      <td>3703.34</td>\n      <td>3713.83</td>\n      <td>823.625491</td>\n      <td>3.057514e+06</td>\n      <td>5335</td>\n      <td>424.739220</td>\n      <td>1.577037e+06</td>\n      <td>...</td>\n      <td>NaN</td>\n      <td>NaN</td>\n      <td>NaN</td>\n      <td>3714.603333</td>\n      <td>3.059442e+06</td>\n      <td>3.059442e+06</td>\n      <td>0.000000e+00</td>\n      <td>NaN</td>\n      <td>NaN</td>\n      <td>NaN</td>\n    </tr>\n    <tr>\n      <th>8</th>\n      <td>2019-01-01 08:00:00</td>\n      <td>3714.19</td>\n      <td>3731.19</td>\n      <td>3707.00</td>\n      <td>3716.70</td>\n      <td>887.101362</td>\n      <td>3.300500e+06</td>\n      <td>6190</td>\n      <td>468.473211</td>\n      <td>1.742964e+06</td>\n      <td>...</td>\n      <td>NaN</td>\n      <td>NaN</td>\n      <td>NaN</td>\n      <td>3718.296667</td>\n      <td>3.298506e+06</td>\n      <td>3.298506e+06</td>\n      <td>0.000000e+00</td>\n      <td>NaN</td>\n      <td>NaN</td>\n      <td>NaN</td>\n    </tr>\n    <tr>\n      <th>9</th>\n      <td>2019-01-01 09:00:00</td>\n      <td>3716.98</td>\n      <td>3732.00</td>\n      <td>3696.14</td>\n      <td>3699.95</td>\n      <td>955.879034</td>\n      <td>3.545474e+06</td>\n      <td>5670</td>\n      <td>510.885391</td>\n      <td>1.895818e+06</td>\n      <td>...</td>\n      <td>NaN</td>\n      <td>NaN</td>\n      <td>NaN</td>\n      <td>3709.363333</td>\n      <td>3.545703e+06</td>\n      <td>0.000000e+00</td>\n      <td>3.545703e+06</td>\n      <td>NaN</td>\n      <td>NaN</td>\n      <td>NaN</td>\n    </tr>\n    <tr>\n      <th>10</th>\n      <td>2019-01-01 10:00:00</td>\n      <td>3699.96</td>\n      <td>3717.11</td>\n      <td>3698.00</td>\n      <td>3713.07</td>\n      <td>534.113945</td>\n      <td>1.981238e+06</td>\n      <td>4008</td>\n      <td>290.434437</td>\n      <td>1.077294e+06</td>\n      <td>...</td>\n      <td>NaN</td>\n      <td>NaN</td>\n      <td>NaN</td>\n      <td>3709.393333</td>\n      <td>1.981239e+06</td>\n      <td>1.981239e+06</td>\n      <td>0.000000e+00</td>\n      <td>NaN</td>\n      <td>NaN</td>\n      <td>NaN</td>\n    </tr>\n    <tr>\n      <th>11</th>\n      <td>2019-01-01 11:00:00</td>\n      <td>3713.07</td>\n      <td>3722.22</td>\n      <td>3706.88</td>\n      <td>3707.54</td>\n      <td>600.664642</td>\n      <td>2.231597e+06</td>\n      <td>4838</td>\n      <td>305.098579</td>\n      <td>1.133572e+06</td>\n      <td>...</td>\n      <td>NaN</td>\n      <td>NaN</td>\n      <td>NaN</td>\n      <td>3712.213333</td>\n      <td>2.229795e+06</td>\n      <td>2.229795e+06</td>\n      <td>0.000000e+00</td>\n      <td>NaN</td>\n      <td>NaN</td>\n      <td>NaN</td>\n    </tr>\n    <tr>\n      <th>12</th>\n      <td>2019-01-01 12:00:00</td>\n      <td>3707.56</td>\n      <td>3725.00</td>\n      <td>3698.25</td>\n      <td>3717.00</td>\n      <td>654.277710</td>\n      <td>2.428995e+06</td>\n      <td>4802</td>\n      <td>352.182187</td>\n      <td>1.307746e+06</td>\n      <td>...</td>\n      <td>NaN</td>\n      <td>NaN</td>\n      <td>NaN</td>\n      <td>3713.416667</td>\n      <td>2.429606e+06</td>\n      <td>2.429606e+06</td>\n      <td>0.000000e+00</td>\n      <td>NaN</td>\n      <td>NaN</td>\n      <td>NaN</td>\n    </tr>\n    <tr>\n      <th>13</th>\n      <td>2019-01-01 13:00:00</td>\n      <td>3717.00</td>\n      <td>3756.94</td>\n      <td>3708.41</td>\n      <td>3715.93</td>\n      <td>941.785695</td>\n      <td>3.506658e+06</td>\n      <td>5975</td>\n      <td>568.857310</td>\n      <td>2.119100e+06</td>\n      <td>...</td>\n      <td>NaN</td>\n      <td>NaN</td>\n      <td>NaN</td>\n      <td>3727.093333</td>\n      <td>3.510123e+06</td>\n      <td>3.510123e+06</td>\n      <td>0.000000e+00</td>\n      <td>70.449461</td>\n      <td>NaN</td>\n      <td>NaN</td>\n    </tr>\n    <tr>\n      <th>14</th>\n      <td>2019-01-01 14:00:00</td>\n      <td>3715.23</td>\n      <td>3717.00</td>\n      <td>3684.21</td>\n      <td>3698.53</td>\n      <td>1127.366632</td>\n      <td>4.174146e+06</td>\n      <td>6899</td>\n      <td>546.537425</td>\n      <td>2.024162e+06</td>\n      <td>...</td>\n      <td>NaN</td>\n      <td>NaN</td>\n      <td>NaN</td>\n      <td>3699.913333</td>\n      <td>4.171159e+06</td>\n      <td>0.000000e+00</td>\n      <td>4.171159e+06</td>\n      <td>63.481361</td>\n      <td>NaN</td>\n      <td>NaN</td>\n    </tr>\n    <tr>\n      <th>15</th>\n      <td>2019-01-01 15:00:00</td>\n      <td>3698.28</td>\n      <td>3698.87</td>\n      <td>3666.01</td>\n      <td>3682.61</td>\n      <td>996.688532</td>\n      <td>3.670750e+06</td>\n      <td>6788</td>\n      <td>500.265135</td>\n      <td>1.842402e+06</td>\n      <td>...</td>\n      <td>NaN</td>\n      <td>NaN</td>\n      <td>NaN</td>\n      <td>3682.496667</td>\n      <td>3.670302e+06</td>\n      <td>0.000000e+00</td>\n      <td>3.670302e+06</td>\n      <td>61.434611</td>\n      <td>NaN</td>\n      <td>NaN</td>\n    </tr>\n    <tr>\n      <th>16</th>\n      <td>2019-01-01 16:00:00</td>\n      <td>3683.00</td>\n      <td>3696.23</td>\n      <td>3677.48</td>\n      <td>3693.54</td>\n      <td>629.180280</td>\n      <td>2.320803e+06</td>\n      <td>4600</td>\n      <td>327.562834</td>\n      <td>1.208303e+06</td>\n      <td>...</td>\n      <td>NaN</td>\n      <td>NaN</td>\n      <td>NaN</td>\n      <td>3689.083333</td>\n      <td>2.321098e+06</td>\n      <td>2.321098e+06</td>\n      <td>0.000000e+00</td>\n      <td>68.296839</td>\n      <td>NaN</td>\n      <td>NaN</td>\n    </tr>\n    <tr>\n      <th>17</th>\n      <td>2019-01-01 17:00:00</td>\n      <td>3693.50</td>\n      <td>3701.68</td>\n      <td>3675.01</td>\n      <td>3686.32</td>\n      <td>380.215487</td>\n      <td>1.403206e+06</td>\n      <td>4207</td>\n      <td>199.429914</td>\n      <td>7.360856e+05</td>\n      <td>...</td>\n      <td>NaN</td>\n      <td>NaN</td>\n      <td>NaN</td>\n      <td>3687.670000</td>\n      <td>1.402109e+06</td>\n      <td>0.000000e+00</td>\n      <td>1.402109e+06</td>\n      <td>63.692561</td>\n      <td>NaN</td>\n      <td>NaN</td>\n    </tr>\n    <tr>\n      <th>18</th>\n      <td>2019-01-01 18:00:00</td>\n      <td>3686.34</td>\n      <td>3686.35</td>\n      <td>3642.00</td>\n      <td>3659.41</td>\n      <td>1083.207096</td>\n      <td>3.966668e+06</td>\n      <td>7211</td>\n      <td>524.277785</td>\n      <td>1.920152e+06</td>\n      <td>...</td>\n      <td>NaN</td>\n      <td>NaN</td>\n      <td>NaN</td>\n      <td>3662.586667</td>\n      <td>3.967340e+06</td>\n      <td>0.000000e+00</td>\n      <td>3.967340e+06</td>\n      <td>52.991389</td>\n      <td>NaN</td>\n      <td>NaN</td>\n    </tr>\n    <tr>\n      <th>19</th>\n      <td>2019-01-01 19:00:00</td>\n      <td>3659.56</td>\n      <td>3699.99</td>\n      <td>3659.56</td>\n      <td>3696.73</td>\n      <td>1155.513112</td>\n      <td>4.247301e+06</td>\n      <td>6923</td>\n      <td>738.862592</td>\n      <td>2.715297e+06</td>\n      <td>...</td>\n      <td>NaN</td>\n      <td>NaN</td>\n      <td>NaN</td>\n      <td>3685.426667</td>\n      <td>4.258559e+06</td>\n      <td>4.258559e+06</td>\n      <td>0.000000e+00</td>\n      <td>60.378020</td>\n      <td>3726.465496</td>\n      <td>3670.584504</td>\n    </tr>\n    <tr>\n      <th>20</th>\n      <td>2019-01-01 20:00:00</td>\n      <td>3696.71</td>\n      <td>3726.93</td>\n      <td>3675.67</td>\n      <td>3719.00</td>\n      <td>2021.170948</td>\n      <td>7.499087e+06</td>\n      <td>11604</td>\n      <td>1132.452741</td>\n      <td>4.202782e+06</td>\n      <td>...</td>\n      <td>NaN</td>\n      <td>NaN</td>\n      <td>NaN</td>\n      <td>3707.200000</td>\n      <td>7.492885e+06</td>\n      <td>7.492885e+06</td>\n      <td>0.000000e+00</td>\n      <td>64.602095</td>\n      <td>3728.863267</td>\n      <td>3670.055733</td>\n    </tr>\n    <tr>\n      <th>21</th>\n      <td>2019-01-01 21:00:00</td>\n      <td>3719.00</td>\n      <td>3730.01</td>\n      <td>3700.00</td>\n      <td>3708.21</td>\n      <td>1105.501735</td>\n      <td>4.107122e+06</td>\n      <td>7130</td>\n      <td>589.372813</td>\n      <td>2.190145e+06</td>\n      <td>...</td>\n      <td>NaN</td>\n      <td>NaN</td>\n      <td>NaN</td>\n      <td>3712.740000</td>\n      <td>4.104441e+06</td>\n      <td>4.104441e+06</td>\n      <td>0.000000e+00</td>\n      <td>65.366638</td>\n      <td>3729.660030</td>\n      <td>3671.110970</td>\n    </tr>\n    <tr>\n      <th>22</th>\n      <td>2019-01-01 22:00:00</td>\n      <td>3707.98</td>\n      <td>3717.07</td>\n      <td>3692.42</td>\n      <td>3711.20</td>\n      <td>624.620136</td>\n      <td>2.316084e+06</td>\n      <td>5721</td>\n      <td>320.426107</td>\n      <td>1.188213e+06</td>\n      <td>...</td>\n      <td>NaN</td>\n      <td>NaN</td>\n      <td>NaN</td>\n      <td>3706.896667</td>\n      <td>2.315402e+06</td>\n      <td>0.000000e+00</td>\n      <td>2.315402e+06</td>\n      <td>59.763478</td>\n      <td>3730.671889</td>\n      <td>3672.219111</td>\n    </tr>\n    <tr>\n      <th>23</th>\n      <td>2019-01-01 23:00:00</td>\n      <td>3712.85</td>\n      <td>3810.16</td>\n      <td>3706.43</td>\n      <td>3797.14</td>\n      <td>3678.716754</td>\n      <td>1.390483e+07</td>\n      <td>16973</td>\n      <td>2013.966534</td>\n      <td>7.611631e+06</td>\n      <td>...</td>\n      <td>NaN</td>\n      <td>NaN</td>\n      <td>NaN</td>\n      <td>3771.243333</td>\n      <td>1.387334e+07</td>\n      <td>1.387334e+07</td>\n      <td>0.000000e+00</td>\n      <td>73.104082</td>\n      <td>3758.159411</td>\n      <td>3655.132589</td>\n    </tr>\n    <tr>\n      <th>24</th>\n      <td>2019-01-02 00:00:00</td>\n      <td>3796.45</td>\n      <td>3810.00</td>\n      <td>3763.75</td>\n      <td>3778.02</td>\n      <td>2094.025159</td>\n      <td>7.927726e+06</td>\n      <td>10665</td>\n      <td>1108.378408</td>\n      <td>4.197072e+06</td>\n      <td>...</td>\n      <td>NaN</td>\n      <td>NaN</td>\n      <td>NaN</td>\n      <td>3783.923333</td>\n      <td>7.923631e+06</td>\n      <td>7.923631e+06</td>\n      <td>0.000000e+00</td>\n      <td>75.614317</td>\n      <td>3770.983204</td>\n      <td>3650.839796</td>\n    </tr>\n    <tr>\n      <th>25</th>\n      <td>2019-01-02 01:00:00</td>\n      <td>3778.62</td>\n      <td>3792.00</td>\n      <td>3765.75</td>\n      <td>3770.00</td>\n      <td>912.811113</td>\n      <td>3.450022e+06</td>\n      <td>6210</td>\n      <td>402.318724</td>\n      <td>1.520610e+06</td>\n      <td>...</td>\n      <td>15.105619</td>\n      <td>NaN</td>\n      <td>NaN</td>\n      <td>3775.916667</td>\n      <td>3.446699e+06</td>\n      <td>0.000000e+00</td>\n      <td>3.446699e+06</td>\n      <td>70.759779</td>\n      <td>3779.734042</td>\n      <td>3649.094958</td>\n    </tr>\n    <tr>\n      <th>26</th>\n      <td>2019-01-02 02:00:00</td>\n      <td>3769.98</td>\n      <td>3785.10</td>\n      <td>3768.00</td>\n      <td>3783.28</td>\n      <td>719.302757</td>\n      <td>2.716784e+06</td>\n      <td>5401</td>\n      <td>277.573136</td>\n      <td>1.048522e+06</td>\n      <td>...</td>\n      <td>18.060503</td>\n      <td>NaN</td>\n      <td>NaN</td>\n      <td>3778.793333</td>\n      <td>2.718096e+06</td>\n      <td>2.718096e+06</td>\n      <td>0.000000e+00</td>\n      <td>70.889208</td>\n      <td>3790.326522</td>\n      <td>3646.474478</td>\n    </tr>\n    <tr>\n      <th>27</th>\n      <td>2019-01-02 03:00:00</td>\n      <td>3783.28</td>\n      <td>3796.22</td>\n      <td>3773.79</td>\n      <td>3779.98</td>\n      <td>770.368067</td>\n      <td>2.915832e+06</td>\n      <td>5710</td>\n      <td>365.280726</td>\n      <td>1.382916e+06</td>\n      <td>...</td>\n      <td>19.906518</td>\n      <td>NaN</td>\n      <td>NaN</td>\n      <td>3783.330000</td>\n      <td>2.914557e+06</td>\n      <td>2.914557e+06</td>\n      <td>0.000000e+00</td>\n      <td>70.620742</td>\n      <td>3798.657443</td>\n      <td>3644.758557</td>\n    </tr>\n    <tr>\n      <th>28</th>\n      <td>2019-01-02 04:00:00</td>\n      <td>3780.00</td>\n      <td>3788.31</td>\n      <td>3765.00</td>\n      <td>3776.41</td>\n      <td>748.260209</td>\n      <td>2.825638e+06</td>\n      <td>5835</td>\n      <td>337.312869</td>\n      <td>1.273982e+06</td>\n      <td>...</td>\n      <td>20.841184</td>\n      <td>NaN</td>\n      <td>NaN</td>\n      <td>3776.573333</td>\n      <td>2.825860e+06</td>\n      <td>0.000000e+00</td>\n      <td>2.825860e+06</td>\n      <td>72.123187</td>\n      <td>3805.367952</td>\n      <td>3644.019048</td>\n    </tr>\n    <tr>\n      <th>29</th>\n      <td>2019-01-02 05:00:00</td>\n      <td>3776.16</td>\n      <td>3778.42</td>\n      <td>3768.00</td>\n      <td>3773.04</td>\n      <td>415.849513</td>\n      <td>1.568712e+06</td>\n      <td>5001</td>\n      <td>212.921242</td>\n      <td>8.032557e+05</td>\n      <td>...</td>\n      <td>21.067135</td>\n      <td>NaN</td>\n      <td>NaN</td>\n      <td>3773.153333</td>\n      <td>1.569064e+06</td>\n      <td>0.000000e+00</td>\n      <td>1.569064e+06</td>\n      <td>74.602172</td>\n      <td>3810.902964</td>\n      <td>3645.793036</td>\n    </tr>\n    <tr>\n      <th>30</th>\n      <td>2019-01-02 06:00:00</td>\n      <td>3773.04</td>\n      <td>3775.00</td>\n      <td>3750.45</td>\n      <td>3758.53</td>\n      <td>916.986058</td>\n      <td>3.451865e+06</td>\n      <td>6808</td>\n      <td>395.508015</td>\n      <td>1.489121e+06</td>\n      <td>...</td>\n      <td>19.846587</td>\n      <td>NaN</td>\n      <td>NaN</td>\n      <td>3761.326667</td>\n      <td>3.449084e+06</td>\n      <td>0.000000e+00</td>\n      <td>3.449084e+06</td>\n      <td>69.522592</td>\n      <td>3813.904896</td>\n      <td>3647.337104</td>\n    </tr>\n    <tr>\n      <th>31</th>\n      <td>2019-01-02 07:00:00</td>\n      <td>3758.53</td>\n      <td>3778.54</td>\n      <td>3755.40</td>\n      <td>3771.08</td>\n      <td>1338.794740</td>\n      <td>5.042810e+06</td>\n      <td>9727</td>\n      <td>626.514292</td>\n      <td>2.359937e+06</td>\n      <td>...</td>\n      <td>19.665285</td>\n      <td>NaN</td>\n      <td>NaN</td>\n      <td>3768.340000</td>\n      <td>5.045034e+06</td>\n      <td>5.045034e+06</td>\n      <td>0.000000e+00</td>\n      <td>73.334772</td>\n      <td>3818.214657</td>\n      <td>3649.381343</td>\n    </tr>\n    <tr>\n      <th>32</th>\n      <td>2019-01-02 08:00:00</td>\n      <td>3772.64</td>\n      <td>3800.00</td>\n      <td>3770.09</td>\n      <td>3781.35</td>\n      <td>2216.579225</td>\n      <td>8.383935e+06</td>\n      <td>14534</td>\n      <td>1175.171836</td>\n      <td>4.445759e+06</td>\n      <td>...</td>\n      <td>20.118393</td>\n      <td>NaN</td>\n      <td>NaN</td>\n      <td>3783.813333</td>\n      <td>8.387122e+06</td>\n      <td>8.387122e+06</td>\n      <td>0.000000e+00</td>\n      <td>80.652191</td>\n      <td>3823.613531</td>\n      <td>3650.417469</td>\n    </tr>\n  </tbody>\n</table>\n<p>33 rows × 21 columns</p>\n</div>"
     },
     "execution_count": 19,
     "metadata": {},
     "output_type": "execute_result"
    }
   ],
   "source": [
    "# Show records with missing values\n",
    "btc_df[btc_df.isnull().any(axis=1)]"
   ],
   "metadata": {
    "collapsed": false,
    "ExecuteTime": {
     "end_time": "2024-08-03T07:32:34.707286Z",
     "start_time": "2024-08-03T07:32:34.679240Z"
    }
   },
   "id": "229b5f3a79fcacf1",
   "execution_count": 19
  },
  {
   "cell_type": "code",
   "outputs": [
    {
     "data": {
      "text/plain": "((48951, 21),\n Timestamp('2019-01-02 09:00:00'),\n Timestamp('2024-08-02 23:00:00'))"
     },
     "execution_count": 20,
     "metadata": {},
     "output_type": "execute_result"
    }
   ],
   "source": [
    "\n",
    "btc_df.dropna(inplace=True)\n",
    "btc_df.shape, btc_df['ds'].min(), btc_df['ds'].max()"
   ],
   "metadata": {
    "collapsed": false,
    "ExecuteTime": {
     "end_time": "2024-08-03T07:32:37.433554Z",
     "start_time": "2024-08-03T07:32:37.421224Z"
    }
   },
   "id": "8a7eba165722f877",
   "execution_count": 20
  },
  {
   "cell_type": "markdown",
   "source": [
    "# Bitcoin_Data"
   ],
   "metadata": {
    "collapsed": false
   },
   "id": "e6c31295a871b6ea"
  },
  {
   "cell_type": "code",
   "outputs": [
    {
     "data": {
      "text/plain": "((48951, 21),\n Timestamp('2019-01-02 09:00:00'),\n Timestamp('2024-08-02 23:00:00'))"
     },
     "execution_count": 21,
     "metadata": {},
     "output_type": "execute_result"
    }
   ],
   "source": [
    "btc_new = pd.read_csv(\"bitcoin_data.csv\")\n",
    "btc_new['ds'] = pd.to_datetime(btc_new['ds'] )\n",
    "btc_new.shape, btc_new['ds'].min(), btc_new['ds'].max()"
   ],
   "metadata": {
    "collapsed": false,
    "ExecuteTime": {
     "end_time": "2024-08-03T07:34:20.301925Z",
     "start_time": "2024-08-03T07:34:20.179567Z"
    }
   },
   "id": "83051b077ee8d4eb",
   "execution_count": 21
  },
  {
   "cell_type": "code",
   "outputs": [],
   "source": [],
   "metadata": {
    "collapsed": false
   },
   "id": "c3e2f3cf49259ce1"
  }
 ],
 "metadata": {
  "kernelspec": {
   "display_name": "Python 3",
   "language": "python",
   "name": "python3"
  },
  "language_info": {
   "codemirror_mode": {
    "name": "ipython",
    "version": 2
   },
   "file_extension": ".py",
   "mimetype": "text/x-python",
   "name": "python",
   "nbconvert_exporter": "python",
   "pygments_lexer": "ipython2",
   "version": "2.7.6"
  }
 },
 "nbformat": 4,
 "nbformat_minor": 5
}
